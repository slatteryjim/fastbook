{
  "nbformat": 4,
  "nbformat_minor": 0,
  "metadata": {
    "colab": {
      "provenance": [],
      "authorship_tag": "ABX9TyPAf/dPHLfFulzcXThKrwiC",
      "include_colab_link": true
    },
    "kernelspec": {
      "name": "python3",
      "display_name": "Python 3"
    },
    "language_info": {
      "name": "python"
    }
  },
  "cells": [
    {
      "cell_type": "markdown",
      "metadata": {
        "id": "view-in-github",
        "colab_type": "text"
      },
      "source": [
        "<a href=\"https://colab.research.google.com/github/slatteryjim/fastbook/blob/master/2024_04_05_MNIST_experiment.ipynb\" target=\"_parent\"><img src=\"https://colab.research.google.com/assets/colab-badge.svg\" alt=\"Open In Colab\"/></a>"
      ]
    },
    {
      "cell_type": "code",
      "execution_count": 1,
      "metadata": {
        "colab": {
          "base_uri": "https://localhost:8080/"
        },
        "id": "tqFMhmcA74f1",
        "outputId": "2436abfd-9a07-4afb-ec32-27c63f047a28"
      },
      "outputs": [
        {
          "output_type": "stream",
          "name": "stdout",
          "text": [
            "\u001b[2K     \u001b[90m━━━━━━━━━━━━━━━━━━━━━━━━━━━━━━━━━━━━━━━━\u001b[0m \u001b[32m719.8/719.8 kB\u001b[0m \u001b[31m5.8 MB/s\u001b[0m eta \u001b[36m0:00:00\u001b[0m\n",
            "\u001b[2K     \u001b[90m━━━━━━━━━━━━━━━━━━━━━━━━━━━━━━━━━━━━━━━━\u001b[0m \u001b[32m510.5/510.5 kB\u001b[0m \u001b[31m8.6 MB/s\u001b[0m eta \u001b[36m0:00:00\u001b[0m\n",
            "\u001b[2K     \u001b[90m━━━━━━━━━━━━━━━━━━━━━━━━━━━━━━━━━━━━━━━━\u001b[0m \u001b[32m116.3/116.3 kB\u001b[0m \u001b[31m6.7 MB/s\u001b[0m eta \u001b[36m0:00:00\u001b[0m\n",
            "\u001b[2K     \u001b[90m━━━━━━━━━━━━━━━━━━━━━━━━━━━━━━━━━━━━━━━━\u001b[0m \u001b[32m194.1/194.1 kB\u001b[0m \u001b[31m3.1 MB/s\u001b[0m eta \u001b[36m0:00:00\u001b[0m\n",
            "\u001b[2K     \u001b[90m━━━━━━━━━━━━━━━━━━━━━━━━━━━━━━━━━━━━━━━━\u001b[0m \u001b[32m134.8/134.8 kB\u001b[0m \u001b[31m6.9 MB/s\u001b[0m eta \u001b[36m0:00:00\u001b[0m\n",
            "\u001b[2K     \u001b[90m━━━━━━━━━━━━━━━━━━━━━━━━━━━━━━━━━━━━━━━━\u001b[0m \u001b[32m1.6/1.6 MB\u001b[0m \u001b[31m11.4 MB/s\u001b[0m eta \u001b[36m0:00:00\u001b[0m\n",
            "\u001b[2K     \u001b[90m━━━━━━━━━━━━━━━━━━━━━━━━━━━━━━━━━━━━━━━━\u001b[0m \u001b[32m23.7/23.7 MB\u001b[0m \u001b[31m22.0 MB/s\u001b[0m eta \u001b[36m0:00:00\u001b[0m\n",
            "\u001b[2K     \u001b[90m━━━━━━━━━━━━━━━━━━━━━━━━━━━━━━━━━━━━━━━━\u001b[0m \u001b[32m823.6/823.6 kB\u001b[0m \u001b[31m27.5 MB/s\u001b[0m eta \u001b[36m0:00:00\u001b[0m\n",
            "\u001b[2K     \u001b[90m━━━━━━━━━━━━━━━━━━━━━━━━━━━━━━━━━━━━━━━━\u001b[0m \u001b[32m14.1/14.1 MB\u001b[0m \u001b[31m22.2 MB/s\u001b[0m eta \u001b[36m0:00:00\u001b[0m\n",
            "\u001b[2K     \u001b[90m━━━━━━━━━━━━━━━━━━━━━━━━━━━━━━━━━━━━━━━━\u001b[0m \u001b[32m731.7/731.7 MB\u001b[0m \u001b[31m1.5 MB/s\u001b[0m eta \u001b[36m0:00:00\u001b[0m\n",
            "\u001b[2K     \u001b[90m━━━━━━━━━━━━━━━━━━━━━━━━━━━━━━━━━━━━━━━━\u001b[0m \u001b[32m410.6/410.6 MB\u001b[0m \u001b[31m3.0 MB/s\u001b[0m eta \u001b[36m0:00:00\u001b[0m\n",
            "\u001b[2K     \u001b[90m━━━━━━━━━━━━━━━━━━━━━━━━━━━━━━━━━━━━━━━━\u001b[0m \u001b[32m121.6/121.6 MB\u001b[0m \u001b[31m8.3 MB/s\u001b[0m eta \u001b[36m0:00:00\u001b[0m\n",
            "\u001b[2K     \u001b[90m━━━━━━━━━━━━━━━━━━━━━━━━━━━━━━━━━━━━━━━━\u001b[0m \u001b[32m56.5/56.5 MB\u001b[0m \u001b[31m11.6 MB/s\u001b[0m eta \u001b[36m0:00:00\u001b[0m\n",
            "\u001b[2K     \u001b[90m━━━━━━━━━━━━━━━━━━━━━━━━━━━━━━━━━━━━━━━━\u001b[0m \u001b[32m124.2/124.2 MB\u001b[0m \u001b[31m8.2 MB/s\u001b[0m eta \u001b[36m0:00:00\u001b[0m\n",
            "\u001b[2K     \u001b[90m━━━━━━━━━━━━━━━━━━━━━━━━━━━━━━━━━━━━━━━━\u001b[0m \u001b[32m196.0/196.0 MB\u001b[0m \u001b[31m4.2 MB/s\u001b[0m eta \u001b[36m0:00:00\u001b[0m\n",
            "\u001b[2K     \u001b[90m━━━━━━━━━━━━━━━━━━━━━━━━━━━━━━━━━━━━━━━━\u001b[0m \u001b[32m166.0/166.0 MB\u001b[0m \u001b[31m6.4 MB/s\u001b[0m eta \u001b[36m0:00:00\u001b[0m\n",
            "\u001b[2K     \u001b[90m━━━━━━━━━━━━━━━━━━━━━━━━━━━━━━━━━━━━━━━━\u001b[0m \u001b[32m99.1/99.1 kB\u001b[0m \u001b[31m12.0 MB/s\u001b[0m eta \u001b[36m0:00:00\u001b[0m\n",
            "\u001b[2K     \u001b[90m━━━━━━━━━━━━━━━━━━━━━━━━━━━━━━━━━━━━━━━━\u001b[0m \u001b[32m21.1/21.1 MB\u001b[0m \u001b[31m49.4 MB/s\u001b[0m eta \u001b[36m0:00:00\u001b[0m\n",
            "\u001b[?25hMounted at /content/gdrive\n"
          ]
        }
      ],
      "source": [
        "! [ -e /content ] && pip install -Uqq fastbook\n",
        "import fastbook\n",
        "fastbook.setup_book()"
      ]
    },
    {
      "cell_type": "code",
      "source": [
        "from fastai.vision.all import *\n",
        "from fastbook import *\n",
        "\n",
        "matplotlib.rc('image', cmap='Greys')"
      ],
      "metadata": {
        "id": "H0W4LSvh8Myz"
      },
      "execution_count": 2,
      "outputs": []
    },
    {
      "cell_type": "code",
      "source": [
        "torch.device(\"cuda\")"
      ],
      "metadata": {
        "colab": {
          "base_uri": "https://localhost:8080/"
        },
        "id": "FqpLts_P9br3",
        "outputId": "a9d6b5fa-ed7a-476a-a558-47d9aa6029ba"
      },
      "execution_count": 3,
      "outputs": [
        {
          "output_type": "execute_result",
          "data": {
            "text/plain": [
              "device(type='cuda')"
            ]
          },
          "metadata": {},
          "execution_count": 3
        }
      ]
    },
    {
      "cell_type": "code",
      "source": [
        "import torch\n",
        "\n",
        "# Check if a GPU is available\n",
        "if torch.cuda.is_available():\n",
        "    device = torch.device(\"cuda\")\n",
        "    print(\"GPU is available\")\n",
        "else:\n",
        "    device = torch.device(\"cpu\")\n",
        "    print(\"GPU is not available, using CPU instead\")"
      ],
      "metadata": {
        "colab": {
          "base_uri": "https://localhost:8080/"
        },
        "id": "pIURac7u9LUl",
        "outputId": "f1fa055b-fce4-4f62-d90b-83519ad5b808"
      },
      "execution_count": 4,
      "outputs": [
        {
          "output_type": "stream",
          "name": "stdout",
          "text": [
            "GPU is not available, using CPU instead\n"
          ]
        }
      ]
    },
    {
      "cell_type": "code",
      "source": [
        "path = untar_data(URLs.MNIST_SAMPLE)"
      ],
      "metadata": {
        "colab": {
          "base_uri": "https://localhost:8080/",
          "height": 37
        },
        "id": "_3ZKJPsl8dzH",
        "outputId": "e8c69645-1e09-4bc4-cb3d-01b3a159ef95"
      },
      "execution_count": 5,
      "outputs": [
        {
          "output_type": "display_data",
          "data": {
            "text/plain": [
              "<IPython.core.display.HTML object>"
            ],
            "text/html": [
              "\n",
              "<style>\n",
              "    /* Turns off some styling */\n",
              "    progress {\n",
              "        /* gets rid of default border in Firefox and Opera. */\n",
              "        border: none;\n",
              "        /* Needs to be in here for Safari polyfill so background images work as expected. */\n",
              "        background-size: auto;\n",
              "    }\n",
              "    progress:not([value]), progress:not([value])::-webkit-progress-bar {\n",
              "        background: repeating-linear-gradient(45deg, #7e7e7e, #7e7e7e 10px, #5c5c5c 10px, #5c5c5c 20px);\n",
              "    }\n",
              "    .progress-bar-interrupted, .progress-bar-interrupted::-webkit-progress-bar {\n",
              "        background: #F44336;\n",
              "    }\n",
              "</style>\n"
            ]
          },
          "metadata": {}
        },
        {
          "output_type": "display_data",
          "data": {
            "text/plain": [
              "<IPython.core.display.HTML object>"
            ],
            "text/html": [
              "\n",
              "    <div>\n",
              "      <progress value='3219456' class='' max='3214948' style='width:300px; height:20px; vertical-align: middle;'></progress>\n",
              "      100.14% [3219456/3214948 00:00&lt;00:00]\n",
              "    </div>\n",
              "    "
            ]
          },
          "metadata": {}
        }
      ]
    },
    {
      "cell_type": "code",
      "source": [
        "path"
      ],
      "metadata": {
        "colab": {
          "base_uri": "https://localhost:8080/"
        },
        "id": "6SHxt3LA9Rm9",
        "outputId": "4f18343f-f5b4-431f-f919-349edf963c06"
      },
      "execution_count": 6,
      "outputs": [
        {
          "output_type": "execute_result",
          "data": {
            "text/plain": [
              "Path('/root/.fastai/data/mnist_sample')"
            ]
          },
          "metadata": {},
          "execution_count": 6
        }
      ]
    },
    {
      "cell_type": "code",
      "source": [
        "# \"cd\" into that folder, so we just display relative paths\n",
        "Path.BASE_PATH = path"
      ],
      "metadata": {
        "id": "7U38i-Uh-8sa"
      },
      "execution_count": 7,
      "outputs": []
    },
    {
      "cell_type": "code",
      "source": [
        "path.ls()"
      ],
      "metadata": {
        "colab": {
          "base_uri": "https://localhost:8080/"
        },
        "id": "xUGkk0VU8i0r",
        "outputId": "659a0940-5017-4b9c-dc06-bbee197d4cf9"
      },
      "execution_count": 8,
      "outputs": [
        {
          "output_type": "execute_result",
          "data": {
            "text/plain": [
              "(#3) [Path('labels.csv'),Path('train'),Path('valid')]"
            ]
          },
          "metadata": {},
          "execution_count": 8
        }
      ]
    },
    {
      "cell_type": "code",
      "source": [
        "(path/'train/3').ls()"
      ],
      "metadata": {
        "colab": {
          "base_uri": "https://localhost:8080/"
        },
        "id": "zTWWsanD8n31",
        "outputId": "c86be343-aee7-4f3d-8e27-2b35202202e2"
      },
      "execution_count": 9,
      "outputs": [
        {
          "output_type": "execute_result",
          "data": {
            "text/plain": [
              "(#6131) [Path('train/3/17752.png'),Path('train/3/34316.png'),Path('train/3/52041.png'),Path('train/3/57868.png'),Path('train/3/37903.png'),Path('train/3/44729.png'),Path('train/3/36427.png'),Path('train/3/10000.png'),Path('train/3/12913.png'),Path('train/3/20397.png')...]"
            ]
          },
          "metadata": {},
          "execution_count": 9
        }
      ]
    },
    {
      "cell_type": "code",
      "source": [
        "(path/'valid/3').ls()"
      ],
      "metadata": {
        "colab": {
          "base_uri": "https://localhost:8080/"
        },
        "id": "S8SQ3Ovj9qfC",
        "outputId": "f5ed085e-45d1-4d94-ca76-78023d8dcf6d"
      },
      "execution_count": 10,
      "outputs": [
        {
          "output_type": "execute_result",
          "data": {
            "text/plain": [
              "(#1010) [Path('valid/3/9996.png'),Path('valid/3/4084.png'),Path('valid/3/2647.png'),Path('valid/3/8206.png'),Path('valid/3/437.png'),Path('valid/3/9579.png'),Path('valid/3/7804.png'),Path('valid/3/4509.png'),Path('valid/3/2025.png'),Path('valid/3/87.png')...]"
            ]
          },
          "metadata": {},
          "execution_count": 10
        }
      ]
    },
    {
      "cell_type": "code",
      "source": [
        "train_threes = (path/'train/3').ls().sorted()\n",
        "train_sevens = (path/'train/7').ls().sorted()\n",
        "valid_threes = (path/'valid/3').ls().sorted()\n",
        "valid_sevens = (path/'valid/7').ls().sorted()\n",
        "\n",
        "print(f\"Train: 3({len(train_threes)}), 7({len(train_sevens)})\")\n",
        "print(f\"Valid: 3({len(valid_threes)}), 7({len(valid_sevens)})\")"
      ],
      "metadata": {
        "colab": {
          "base_uri": "https://localhost:8080/"
        },
        "id": "F_qYiaYu91D4",
        "outputId": "96a08bbc-6ca9-4a46-b499-23c58bdab392"
      },
      "execution_count": 11,
      "outputs": [
        {
          "output_type": "stream",
          "name": "stdout",
          "text": [
            "Train: 3(6131), 7(6265)\n",
            "Valid: 3(1010), 7(1028)\n"
          ]
        }
      ]
    },
    {
      "cell_type": "code",
      "source": [
        "im3 = Image.open(train_threes[0])\n",
        "im3"
      ],
      "metadata": {
        "colab": {
          "base_uri": "https://localhost:8080/",
          "height": 45
        },
        "id": "jIXI8Jpz-AEb",
        "outputId": "3342b55d-7a7e-4cf2-aa26-8174bc724cee"
      },
      "execution_count": 12,
      "outputs": [
        {
          "output_type": "execute_result",
          "data": {
            "text/plain": [
              "<PIL.PngImagePlugin.PngImageFile image mode=L size=28x28>"
            ],
            "image/png": "[encoded data removed]"
          },
          "metadata": {},
          "execution_count": 12
        }
      ]
    },
    {
      "cell_type": "code",
      "source": [
        "tensor(im3)[3:-3, 5:-7]"
      ],
      "metadata": {
        "colab": {
          "base_uri": "https://localhost:8080/"
        },
        "id": "Pge8Lat9_Vrs",
        "outputId": "edd38acc-ec3c-43df-9753-2ba18d57e8e9"
      },
      "execution_count": 13,
      "outputs": [
        {
          "output_type": "execute_result",
          "data": {
            "text/plain": [
              "tensor([[  0,   0,   0,   0,   0,   0,   0,   0,   0,   0,   0,   0,   0,   0,   0,   0],\n",
              "        [  0,   0,   0,   0,   0,   0,  42, 118, 219, 166, 118, 118,   6,   0,   0,   0],\n",
              "        [  0,   0,   0,   0,   0, 103, 242, 254, 254, 254, 254, 254,  66,   0,   0,   0],\n",
              "        [  0,   0,   0,   0,   0,  18, 232, 254, 254, 254, 254, 254, 238,  70,   0,   0],\n",
              "        [  0,   0,   0,   0,   0,   0, 104, 244, 254, 224, 254, 254, 254, 141,   0,   0],\n",
              "        [  0,   0,   0,   0,   0,   0,   0, 207, 254, 210, 254, 254, 254,  34,   0,   0],\n",
              "        [  0,   0,   0,   0,   0,   0,   0,  84, 206, 254, 254, 254, 254,  41,   0,   0],\n",
              "        [  0,   0,   0,   0,   0,   0,   0,   0,  24, 209, 254, 254, 254, 171,   0,   0],\n",
              "        [  0,   0,   0,   0,   0,   0,   0,  91, 137, 253, 254, 254, 254, 112,   0,   0],\n",
              "        [  0,   0,   0,   0,   0,  40, 214, 250, 254, 254, 254, 254, 254,  34,   0,   0],\n",
              "        [  0,   0,   0,   0,   0,  81, 247, 254, 254, 254, 254, 254, 254, 146,   0,   0],\n",
              "        [  0,   0,   0,   0,   0,   0, 110, 246, 254, 254, 254, 254, 254, 171,   0,   0],\n",
              "        [  0,   0,   0,   0,   0,   0,   0,  73,  89,  89,  93, 240, 254, 171,   0,   0],\n",
              "        [  0,   0,   0,   0,   0,   0,   0,   0,   0,   0,   1, 128, 254, 219,  31,   0],\n",
              "        [  0,   0,   0,   0,   0,   0,   0,   0,   0,   0,   7, 254, 254, 214,  28,   0],\n",
              "        [  0,   0,   0,   0,   0,   0,   0,   0,   0,   0, 138, 254, 254, 116,   0,   0],\n",
              "        [  0,  19, 177,  90,   0,   0,   0,   0,   0,  25, 240, 254, 254,  34,   0,   0],\n",
              "        [  0, 164, 254, 215,  63,  36,   0,  51,  89, 206, 254, 254, 139,   8,   0,   0],\n",
              "        [  0,  57, 197, 254, 254, 222, 180, 241, 254, 254, 253, 213,  11,   0,   0,   0],\n",
              "        [  0,   0, 140, 105, 254, 254, 254, 254, 254, 254, 236,   0,   0,   0,   0,   0],\n",
              "        [  0,   0,   0,   7, 117, 117, 165, 254, 254, 239,  50,   0,   0,   0,   0,   0],\n",
              "        [  0,   0,   0,   0,   0,   0,   0,   0,   0,   0,   0,   0,   0,   0,   0,   0]], dtype=torch.uint8)"
            ]
          },
          "metadata": {},
          "execution_count": 13
        }
      ]
    },
    {
      "source": [
        "matplotlib.rc('image', cmap='Greys')\n",
        "\n",
        "df = pd.DataFrame(tensor(im3)[3:-3, 5:-7])\n",
        "df.style.set_properties(**{'font-size':'8pt'}).background_gradient('Greys')"
      ],
      "cell_type": "code",
      "metadata": {
        "colab": {
          "base_uri": "https://localhost:8080/",
          "height": 739
        },
        "id": "NSfNiSxh_5EZ",
        "outputId": "fbf27741-6f4b-4d68-c16b-e2b45064dc55"
      },
      "execution_count": 14,
      "outputs": [
        {
          "output_type": "execute_result",
          "data": {
            "text/plain": [
              "<pandas.io.formats.style.Styler at 0x7bf94355ebc0>"
            ],
            "text/html": [
              "<style type=\"text/css\">\n",
              "#T_8656f_row0_col0, #T_8656f_row0_col1, #T_8656f_row0_col2, #T_8656f_row0_col3, #T_8656f_row0_col4, #T_8656f_row0_col5, #T_8656f_row0_col6, #T_8656f_row0_col7, #T_8656f_row0_col8, #T_8656f_row0_col9, #T_8656f_row0_col10, #T_8656f_row0_col11, #T_8656f_row0_col12, #T_8656f_row0_col13, #T_8656f_row0_col14, #T_8656f_row0_col15, #T_8656f_row1_col0, #T_8656f_row1_col1, #T_8656f_row1_col2, #T_8656f_row1_col3, #T_8656f_row1_col4, #T_8656f_row1_col5, #T_8656f_row1_col13, #T_8656f_row1_col14, #T_8656f_row1_col15, #T_8656f_row2_col0, #T_8656f_row2_col1, #T_8656f_row2_col2, #T_8656f_row2_col3, #T_8656f_row2_col4, #T_8656f_row2_col13, #T_8656f_row2_col14, #T_8656f_row2_col15, #T_8656f_row3_col0, #T_8656f_row3_col1, #T_8656f_row3_col2, #T_8656f_row3_col3, #T_8656f_row3_col4, #T_8656f_row3_col14, #T_8656f_row3_col15, #T_8656f_row4_col0, #T_8656f_row4_col1, #T_8656f_row4_col2, #T_8656f_row4_col3, #T_8656f_row4_col4, #T_8656f_row4_col5, #T_8656f_row4_col14, #T_8656f_row4_col15, #T_8656f_row5_col0, #T_8656f_row5_col1, #T_8656f_row5_col2, #T_8656f_row5_col3, #T_8656f_row5_col4, #T_8656f_row5_col5, #T_8656f_row5_col6, #T_8656f_row5_col14, #T_8656f_row5_col15, #T_8656f_row6_col0, #T_8656f_row6_col1, #T_8656f_row6_col2, #T_8656f_row6_col3, #T_8656f_row6_col4, #T_8656f_row6_col5, #T_8656f_row6_col6, #T_8656f_row6_col14, #T_8656f_row6_col15, #T_8656f_row7_col0, #T_8656f_row7_col1, #T_8656f_row7_col2, #T_8656f_row7_col3, #T_8656f_row7_col4, #T_8656f_row7_col5, #T_8656f_row7_col6, #T_8656f_row7_col7, #T_8656f_row7_col14, #T_8656f_row7_col15, #T_8656f_row8_col0, #T_8656f_row8_col1, #T_8656f_row8_col2, #T_8656f_row8_col3, #T_8656f_row8_col4, #T_8656f_row8_col5, #T_8656f_row8_col6, #T_8656f_row8_col14, #T_8656f_row8_col15, #T_8656f_row9_col0, #T_8656f_row9_col1, #T_8656f_row9_col2, #T_8656f_row9_col3, #T_8656f_row9_col4, #T_8656f_row9_col14, #T_8656f_row9_col15, #T_8656f_row10_col0, #T_8656f_row10_col1, #T_8656f_row10_col2, #T_8656f_row10_col3, #T_8656f_row10_col4, #T_8656f_row10_col14, #T_8656f_row10_col15, #T_8656f_row11_col0, #T_8656f_row11_col1, #T_8656f_row11_col2, #T_8656f_row11_col3, #T_8656f_row11_col4, #T_8656f_row11_col5, #T_8656f_row11_col14, #T_8656f_row11_col15, #T_8656f_row12_col0, #T_8656f_row12_col1, #T_8656f_row12_col2, #T_8656f_row12_col3, #T_8656f_row12_col4, #T_8656f_row12_col5, #T_8656f_row12_col6, #T_8656f_row12_col14, #T_8656f_row12_col15, #T_8656f_row13_col0, #T_8656f_row13_col1, #T_8656f_row13_col2, #T_8656f_row13_col3, #T_8656f_row13_col4, #T_8656f_row13_col5, #T_8656f_row13_col6, #T_8656f_row13_col7, #T_8656f_row13_col8, #T_8656f_row13_col9, #T_8656f_row13_col10, #T_8656f_row13_col15, #T_8656f_row14_col0, #T_8656f_row14_col1, #T_8656f_row14_col2, #T_8656f_row14_col3, #T_8656f_row14_col4, #T_8656f_row14_col5, #T_8656f_row14_col6, #T_8656f_row14_col7, #T_8656f_row14_col8, #T_8656f_row14_col9, #T_8656f_row14_col15, #T_8656f_row15_col0, #T_8656f_row15_col1, #T_8656f_row15_col2, #T_8656f_row15_col3, #T_8656f_row15_col4, #T_8656f_row15_col5, #T_8656f_row15_col6, #T_8656f_row15_col7, #T_8656f_row15_col8, #T_8656f_row15_col9, #T_8656f_row15_col14, #T_8656f_row15_col15, #T_8656f_row16_col0, #T_8656f_row16_col4, #T_8656f_row16_col5, #T_8656f_row16_col6, #T_8656f_row16_col7, #T_8656f_row16_col8, #T_8656f_row16_col14, #T_8656f_row16_col15, #T_8656f_row17_col0, #T_8656f_row17_col6, #T_8656f_row17_col14, #T_8656f_row17_col15, #T_8656f_row18_col0, #T_8656f_row18_col13, #T_8656f_row18_col14, #T_8656f_row18_col15, #T_8656f_row19_col0, #T_8656f_row19_col1, #T_8656f_row19_col11, #T_8656f_row19_col12, #T_8656f_row19_col13, #T_8656f_row19_col14, #T_8656f_row19_col15, #T_8656f_row20_col0, #T_8656f_row20_col1, #T_8656f_row20_col2, #T_8656f_row20_col11, #T_8656f_row20_col12, #T_8656f_row20_col13, #T_8656f_row20_col14, #T_8656f_row20_col15, #T_8656f_row21_col0, #T_8656f_row21_col1, #T_8656f_row21_col2, #T_8656f_row21_col3, #T_8656f_row21_col4, #T_8656f_row21_col5, #T_8656f_row21_col6, #T_8656f_row21_col7, #T_8656f_row21_col8, #T_8656f_row21_col9, #T_8656f_row21_col10, #T_8656f_row21_col11, #T_8656f_row21_col12, #T_8656f_row21_col13, #T_8656f_row21_col14, #T_8656f_row21_col15 {\n",
              "  font-size: 8pt;\n",
              "  background-color: #ffffff;\n",
              "  color: #000000;\n",
              "}\n",
              "#T_8656f_row1_col6 {\n",
              "  font-size: 8pt;\n",
              "  background-color: #e9e9e9;\n",
              "  color: #000000;\n",
              "}\n",
              "#T_8656f_row1_col7, #T_8656f_row1_col10, #T_8656f_row1_col11 {\n",
              "  font-size: 8pt;\n",
              "  background-color: #a2a2a2;\n",
              "  color: #f1f1f1;\n",
              "}\n",
              "#T_8656f_row1_col8 {\n",
              "  font-size: 8pt;\n",
              "  background-color: #292929;\n",
              "  color: #f1f1f1;\n",
              "}\n",
              "#T_8656f_row1_col9 {\n",
              "  font-size: 8pt;\n",
              "  background-color: #6b6b6b;\n",
              "  color: #f1f1f1;\n",
              "}\n",
              "#T_8656f_row1_col12, #T_8656f_row14_col10, #T_8656f_row20_col3 {\n",
              "  font-size: 8pt;\n",
              "  background-color: #fcfcfc;\n",
              "  color: #000000;\n",
              "}\n",
              "#T_8656f_row2_col5 {\n",
              "  font-size: 8pt;\n",
              "  background-color: #b4b4b4;\n",
              "  color: #000000;\n",
              "}\n",
              "#T_8656f_row2_col6 {\n",
              "  font-size: 8pt;\n",
              "  background-color: #0e0e0e;\n",
              "  color: #f1f1f1;\n",
              "}\n",
              "#T_8656f_row2_col7, #T_8656f_row2_col8, #T_8656f_row2_col9, #T_8656f_row2_col10, #T_8656f_row2_col11, #T_8656f_row3_col7, #T_8656f_row3_col8, #T_8656f_row3_col9, #T_8656f_row3_col10, #T_8656f_row3_col11, #T_8656f_row4_col8, #T_8656f_row4_col10, #T_8656f_row4_col11, #T_8656f_row4_col12, #T_8656f_row5_col8, #T_8656f_row5_col10, #T_8656f_row5_col11, #T_8656f_row5_col12, #T_8656f_row6_col9, #T_8656f_row6_col10, #T_8656f_row6_col11, #T_8656f_row6_col12, #T_8656f_row7_col10, #T_8656f_row7_col11, #T_8656f_row7_col12, #T_8656f_row8_col10, #T_8656f_row8_col11, #T_8656f_row8_col12, #T_8656f_row9_col8, #T_8656f_row9_col9, #T_8656f_row9_col10, #T_8656f_row9_col11, #T_8656f_row9_col12, #T_8656f_row10_col7, #T_8656f_row10_col8, #T_8656f_row10_col9, #T_8656f_row10_col10, #T_8656f_row10_col11, #T_8656f_row10_col12, #T_8656f_row11_col8, #T_8656f_row11_col9, #T_8656f_row11_col10, #T_8656f_row11_col11, #T_8656f_row11_col12, #T_8656f_row12_col12, #T_8656f_row13_col12, #T_8656f_row13_col13, #T_8656f_row13_col14, #T_8656f_row14_col11, #T_8656f_row14_col12, #T_8656f_row15_col11, #T_8656f_row15_col12, #T_8656f_row16_col11, #T_8656f_row16_col12, #T_8656f_row17_col1, #T_8656f_row17_col2, #T_8656f_row17_col10, #T_8656f_row17_col11, #T_8656f_row18_col3, #T_8656f_row18_col4, #T_8656f_row18_col8, #T_8656f_row18_col9, #T_8656f_row19_col4, #T_8656f_row19_col5, #T_8656f_row19_col6, #T_8656f_row19_col7, #T_8656f_row19_col8, #T_8656f_row19_col9, #T_8656f_row20_col7, #T_8656f_row20_col8 {\n",
              "  font-size: 8pt;\n",
              "  background-color: #000000;\n",
              "  color: #f1f1f1;\n",
              "}\n",
              "#T_8656f_row2_col12 {\n",
              "  font-size: 8pt;\n",
              "  background-color: #d7d7d7;\n",
              "  color: #000000;\n",
              "}\n",
              "#T_8656f_row3_col5 {\n",
              "  font-size: 8pt;\n",
              "  background-color: #f7f7f7;\n",
              "  color: #000000;\n",
              "}\n",
              "#T_8656f_row3_col6 {\n",
              "  font-size: 8pt;\n",
              "  background-color: #1a1a1a;\n",
              "  color: #f1f1f1;\n",
              "}\n",
              "#T_8656f_row3_col12 {\n",
              "  font-size: 8pt;\n",
              "  background-color: #131313;\n",
              "  color: #f1f1f1;\n",
              "}\n",
              "#T_8656f_row3_col13, #T_8656f_row10_col5 {\n",
              "  font-size: 8pt;\n",
              "  background-color: #cacaca;\n",
              "  color: #000000;\n",
              "}\n",
              "#T_8656f_row4_col6 {\n",
              "  font-size: 8pt;\n",
              "  background-color: #b3b3b3;\n",
              "  color: #000000;\n",
              "}\n",
              "#T_8656f_row4_col7 {\n",
              "  font-size: 8pt;\n",
              "  background-color: #0c0c0c;\n",
              "  color: #f1f1f1;\n",
              "}\n",
              "#T_8656f_row4_col9 {\n",
              "  font-size: 8pt;\n",
              "  background-color: #232323;\n",
              "  color: #f1f1f1;\n",
              "}\n",
              "#T_8656f_row4_col13 {\n",
              "  font-size: 8pt;\n",
              "  background-color: #6e6e6e;\n",
              "  color: #f1f1f1;\n",
              "}\n",
              "#T_8656f_row5_col7 {\n",
              "  font-size: 8pt;\n",
              "  background-color: #3a3a3a;\n",
              "  color: #f1f1f1;\n",
              "}\n",
              "#T_8656f_row5_col9 {\n",
              "  font-size: 8pt;\n",
              "  background-color: #363636;\n",
              "  color: #f1f1f1;\n",
              "}\n",
              "#T_8656f_row5_col13, #T_8656f_row9_col13, #T_8656f_row16_col13 {\n",
              "  font-size: 8pt;\n",
              "  background-color: #ebebeb;\n",
              "  color: #000000;\n",
              "}\n",
              "#T_8656f_row6_col7 {\n",
              "  font-size: 8pt;\n",
              "  background-color: #c7c7c7;\n",
              "  color: #000000;\n",
              "}\n",
              "#T_8656f_row6_col8, #T_8656f_row17_col9 {\n",
              "  font-size: 8pt;\n",
              "  background-color: #3c3c3c;\n",
              "  color: #f1f1f1;\n",
              "}\n",
              "#T_8656f_row6_col13 {\n",
              "  font-size: 8pt;\n",
              "  background-color: #e5e5e5;\n",
              "  color: #000000;\n",
              "}\n",
              "#T_8656f_row7_col8 {\n",
              "  font-size: 8pt;\n",
              "  background-color: #f4f4f4;\n",
              "  color: #000000;\n",
              "}\n",
              "#T_8656f_row7_col9 {\n",
              "  font-size: 8pt;\n",
              "  background-color: #383838;\n",
              "  color: #f1f1f1;\n",
              "}\n",
              "#T_8656f_row7_col13, #T_8656f_row11_col13, #T_8656f_row12_col13 {\n",
              "  font-size: 8pt;\n",
              "  background-color: #474747;\n",
              "  color: #f1f1f1;\n",
              "}\n",
              "#T_8656f_row8_col7 {\n",
              "  font-size: 8pt;\n",
              "  background-color: #c1c1c1;\n",
              "  color: #000000;\n",
              "}\n",
              "#T_8656f_row8_col8 {\n",
              "  font-size: 8pt;\n",
              "  background-color: #8a8a8a;\n",
              "  color: #f1f1f1;\n",
              "}\n",
              "#T_8656f_row8_col9, #T_8656f_row18_col10 {\n",
              "  font-size: 8pt;\n",
              "  background-color: #010101;\n",
              "  color: #f1f1f1;\n",
              "}\n",
              "#T_8656f_row8_col13 {\n",
              "  font-size: 8pt;\n",
              "  background-color: #939393;\n",
              "  color: #f1f1f1;\n",
              "}\n",
              "#T_8656f_row9_col5 {\n",
              "  font-size: 8pt;\n",
              "  background-color: #eaeaea;\n",
              "  color: #000000;\n",
              "}\n",
              "#T_8656f_row9_col6 {\n",
              "  font-size: 8pt;\n",
              "  background-color: #303030;\n",
              "  color: #f1f1f1;\n",
              "}\n",
              "#T_8656f_row9_col7 {\n",
              "  font-size: 8pt;\n",
              "  background-color: #050505;\n",
              "  color: #f1f1f1;\n",
              "}\n",
              "#T_8656f_row10_col6 {\n",
              "  font-size: 8pt;\n",
              "  background-color: #080808;\n",
              "  color: #f1f1f1;\n",
              "}\n",
              "#T_8656f_row10_col13 {\n",
              "  font-size: 8pt;\n",
              "  background-color: #686868;\n",
              "  color: #f1f1f1;\n",
              "}\n",
              "#T_8656f_row11_col6 {\n",
              "  font-size: 8pt;\n",
              "  background-color: #ababab;\n",
              "  color: #000000;\n",
              "}\n",
              "#T_8656f_row11_col7 {\n",
              "  font-size: 8pt;\n",
              "  background-color: #090909;\n",
              "  color: #f1f1f1;\n",
              "}\n",
              "#T_8656f_row12_col7 {\n",
              "  font-size: 8pt;\n",
              "  background-color: #d1d1d1;\n",
              "  color: #000000;\n",
              "}\n",
              "#T_8656f_row12_col8, #T_8656f_row12_col9, #T_8656f_row17_col8 {\n",
              "  font-size: 8pt;\n",
              "  background-color: #c3c3c3;\n",
              "  color: #000000;\n",
              "}\n",
              "#T_8656f_row12_col10 {\n",
              "  font-size: 8pt;\n",
              "  background-color: #bfbfbf;\n",
              "  color: #000000;\n",
              "}\n",
              "#T_8656f_row12_col11, #T_8656f_row16_col10 {\n",
              "  font-size: 8pt;\n",
              "  background-color: #101010;\n",
              "  color: #f1f1f1;\n",
              "}\n",
              "#T_8656f_row13_col11 {\n",
              "  font-size: 8pt;\n",
              "  background-color: #949494;\n",
              "  color: #f1f1f1;\n",
              "}\n",
              "#T_8656f_row14_col13 {\n",
              "  font-size: 8pt;\n",
              "  background-color: #060606;\n",
              "  color: #f1f1f1;\n",
              "}\n",
              "#T_8656f_row14_col14 {\n",
              "  font-size: 8pt;\n",
              "  background-color: #1c1c1c;\n",
              "  color: #f1f1f1;\n",
              "}\n",
              "#T_8656f_row15_col10 {\n",
              "  font-size: 8pt;\n",
              "  background-color: #898989;\n",
              "  color: #f1f1f1;\n",
              "}\n",
              "#T_8656f_row15_col13 {\n",
              "  font-size: 8pt;\n",
              "  background-color: #8e8e8e;\n",
              "  color: #f1f1f1;\n",
              "}\n",
              "#T_8656f_row16_col1 {\n",
              "  font-size: 8pt;\n",
              "  background-color: #f1f1f1;\n",
              "  color: #000000;\n",
              "}\n",
              "#T_8656f_row16_col2 {\n",
              "  font-size: 8pt;\n",
              "  background-color: #606060;\n",
              "  color: #f1f1f1;\n",
              "}\n",
              "#T_8656f_row16_col3 {\n",
              "  font-size: 8pt;\n",
              "  background-color: #c2c2c2;\n",
              "  color: #000000;\n",
              "}\n",
              "#T_8656f_row16_col9 {\n",
              "  font-size: 8pt;\n",
              "  background-color: #f3f3f3;\n",
              "  color: #000000;\n",
              "}\n",
              "#T_8656f_row17_col3 {\n",
              "  font-size: 8pt;\n",
              "  background-color: #2f2f2f;\n",
              "  color: #f1f1f1;\n",
              "}\n",
              "#T_8656f_row17_col4 {\n",
              "  font-size: 8pt;\n",
              "  background-color: #dadada;\n",
              "  color: #000000;\n",
              "}\n",
              "#T_8656f_row17_col5 {\n",
              "  font-size: 8pt;\n",
              "  background-color: #ededed;\n",
              "  color: #000000;\n",
              "}\n",
              "#T_8656f_row17_col7 {\n",
              "  font-size: 8pt;\n",
              "  background-color: #e2e2e2;\n",
              "  color: #000000;\n",
              "}\n",
              "#T_8656f_row17_col12 {\n",
              "  font-size: 8pt;\n",
              "  background-color: #888888;\n",
              "  color: #f1f1f1;\n",
              "}\n",
              "#T_8656f_row17_col13 {\n",
              "  font-size: 8pt;\n",
              "  background-color: #fbfbfb;\n",
              "  color: #000000;\n",
              "}\n",
              "#T_8656f_row18_col1 {\n",
              "  font-size: 8pt;\n",
              "  background-color: #c4c4c4;\n",
              "  color: #000000;\n",
              "}\n",
              "#T_8656f_row18_col2 {\n",
              "  font-size: 8pt;\n",
              "  background-color: #484848;\n",
              "  color: #f1f1f1;\n",
              "}\n",
              "#T_8656f_row18_col5 {\n",
              "  font-size: 8pt;\n",
              "  background-color: #252525;\n",
              "  color: #f1f1f1;\n",
              "}\n",
              "#T_8656f_row18_col6 {\n",
              "  font-size: 8pt;\n",
              "  background-color: #5d5d5d;\n",
              "  color: #f1f1f1;\n",
              "}\n",
              "#T_8656f_row18_col7 {\n",
              "  font-size: 8pt;\n",
              "  background-color: #0f0f0f;\n",
              "  color: #f1f1f1;\n",
              "}\n",
              "#T_8656f_row18_col11 {\n",
              "  font-size: 8pt;\n",
              "  background-color: #323232;\n",
              "  color: #f1f1f1;\n",
              "}\n",
              "#T_8656f_row18_col12 {\n",
              "  font-size: 8pt;\n",
              "  background-color: #fafafa;\n",
              "  color: #000000;\n",
              "}\n",
              "#T_8656f_row19_col2 {\n",
              "  font-size: 8pt;\n",
              "  background-color: #878787;\n",
              "  color: #f1f1f1;\n",
              "}\n",
              "#T_8656f_row19_col3 {\n",
              "  font-size: 8pt;\n",
              "  background-color: #b2b2b2;\n",
              "  color: #000000;\n",
              "}\n",
              "#T_8656f_row19_col10 {\n",
              "  font-size: 8pt;\n",
              "  background-color: #151515;\n",
              "  color: #f1f1f1;\n",
              "}\n",
              "#T_8656f_row20_col4, #T_8656f_row20_col5 {\n",
              "  font-size: 8pt;\n",
              "  background-color: #a3a3a3;\n",
              "  color: #f1f1f1;\n",
              "}\n",
              "#T_8656f_row20_col6 {\n",
              "  font-size: 8pt;\n",
              "  background-color: #6c6c6c;\n",
              "  color: #f1f1f1;\n",
              "}\n",
              "#T_8656f_row20_col9 {\n",
              "  font-size: 8pt;\n",
              "  background-color: #111111;\n",
              "  color: #f1f1f1;\n",
              "}\n",
              "#T_8656f_row20_col10 {\n",
              "  font-size: 8pt;\n",
              "  background-color: #e3e3e3;\n",
              "  color: #000000;\n",
              "}\n",
              "</style>\n",
              "<table id=\"T_8656f\" class=\"dataframe\">\n",
              "  <thead>\n",
              "    <tr>\n",
              "      <th class=\"blank level0\" >&nbsp;</th>\n",
              "      <th id=\"T_8656f_level0_col0\" class=\"col_heading level0 col0\" >0</th>\n",
              "      <th id=\"T_8656f_level0_col1\" class=\"col_heading level0 col1\" >1</th>\n",
              "      <th id=\"T_8656f_level0_col2\" class=\"col_heading level0 col2\" >2</th>\n",
              "      <th id=\"T_8656f_level0_col3\" class=\"col_heading level0 col3\" >3</th>\n",
              "      <th id=\"T_8656f_level0_col4\" class=\"col_heading level0 col4\" >4</th>\n",
              "      <th id=\"T_8656f_level0_col5\" class=\"col_heading level0 col5\" >5</th>\n",
              "      <th id=\"T_8656f_level0_col6\" class=\"col_heading level0 col6\" >6</th>\n",
              "      <th id=\"T_8656f_level0_col7\" class=\"col_heading level0 col7\" >7</th>\n",
              "      <th id=\"T_8656f_level0_col8\" class=\"col_heading level0 col8\" >8</th>\n",
              "      <th id=\"T_8656f_level0_col9\" class=\"col_heading level0 col9\" >9</th>\n",
              "      <th id=\"T_8656f_level0_col10\" class=\"col_heading level0 col10\" >10</th>\n",
              "      <th id=\"T_8656f_level0_col11\" class=\"col_heading level0 col11\" >11</th>\n",
              "      <th id=\"T_8656f_level0_col12\" class=\"col_heading level0 col12\" >12</th>\n",
              "      <th id=\"T_8656f_level0_col13\" class=\"col_heading level0 col13\" >13</th>\n",
              "      <th id=\"T_8656f_level0_col14\" class=\"col_heading level0 col14\" >14</th>\n",
              "      <th id=\"T_8656f_level0_col15\" class=\"col_heading level0 col15\" >15</th>\n",
              "    </tr>\n",
              "  </thead>\n",
              "  <tbody>\n",
              "    <tr>\n",
              "      <th id=\"T_8656f_level0_row0\" class=\"row_heading level0 row0\" >0</th>\n",
              "      <td id=\"T_8656f_row0_col0\" class=\"data row0 col0\" >0</td>\n",
              "      <td id=\"T_8656f_row0_col1\" class=\"data row0 col1\" >0</td>\n",
              "      <td id=\"T_8656f_row0_col2\" class=\"data row0 col2\" >0</td>\n",
              "      <td id=\"T_8656f_row0_col3\" class=\"data row0 col3\" >0</td>\n",
              "      <td id=\"T_8656f_row0_col4\" class=\"data row0 col4\" >0</td>\n",
              "      <td id=\"T_8656f_row0_col5\" class=\"data row0 col5\" >0</td>\n",
              "      <td id=\"T_8656f_row0_col6\" class=\"data row0 col6\" >0</td>\n",
              "      <td id=\"T_8656f_row0_col7\" class=\"data row0 col7\" >0</td>\n",
              "      <td id=\"T_8656f_row0_col8\" class=\"data row0 col8\" >0</td>\n",
              "      <td id=\"T_8656f_row0_col9\" class=\"data row0 col9\" >0</td>\n",
              "      <td id=\"T_8656f_row0_col10\" class=\"data row0 col10\" >0</td>\n",
              "      <td id=\"T_8656f_row0_col11\" class=\"data row0 col11\" >0</td>\n",
              "      <td id=\"T_8656f_row0_col12\" class=\"data row0 col12\" >0</td>\n",
              "      <td id=\"T_8656f_row0_col13\" class=\"data row0 col13\" >0</td>\n",
              "      <td id=\"T_8656f_row0_col14\" class=\"data row0 col14\" >0</td>\n",
              "      <td id=\"T_8656f_row0_col15\" class=\"data row0 col15\" >0</td>\n",
              "    </tr>\n",
              "    <tr>\n",
              "      <th id=\"T_8656f_level0_row1\" class=\"row_heading level0 row1\" >1</th>\n",
              "      <td id=\"T_8656f_row1_col0\" class=\"data row1 col0\" >0</td>\n",
              "      <td id=\"T_8656f_row1_col1\" class=\"data row1 col1\" >0</td>\n",
              "      <td id=\"T_8656f_row1_col2\" class=\"data row1 col2\" >0</td>\n",
              "      <td id=\"T_8656f_row1_col3\" class=\"data row1 col3\" >0</td>\n",
              "      <td id=\"T_8656f_row1_col4\" class=\"data row1 col4\" >0</td>\n",
              "      <td id=\"T_8656f_row1_col5\" class=\"data row1 col5\" >0</td>\n",
              "      <td id=\"T_8656f_row1_col6\" class=\"data row1 col6\" >42</td>\n",
              "      <td id=\"T_8656f_row1_col7\" class=\"data row1 col7\" >118</td>\n",
              "      <td id=\"T_8656f_row1_col8\" class=\"data row1 col8\" >219</td>\n",
              "      <td id=\"T_8656f_row1_col9\" class=\"data row1 col9\" >166</td>\n",
              "      <td id=\"T_8656f_row1_col10\" class=\"data row1 col10\" >118</td>\n",
              "      <td id=\"T_8656f_row1_col11\" class=\"data row1 col11\" >118</td>\n",
              "      <td id=\"T_8656f_row1_col12\" class=\"data row1 col12\" >6</td>\n",
              "      <td id=\"T_8656f_row1_col13\" class=\"data row1 col13\" >0</td>\n",
              "      <td id=\"T_8656f_row1_col14\" class=\"data row1 col14\" >0</td>\n",
              "      <td id=\"T_8656f_row1_col15\" class=\"data row1 col15\" >0</td>\n",
              "    </tr>\n",
              "    <tr>\n",
              "      <th id=\"T_8656f_level0_row2\" class=\"row_heading level0 row2\" >2</th>\n",
              "      <td id=\"T_8656f_row2_col0\" class=\"data row2 col0\" >0</td>\n",
              "      <td id=\"T_8656f_row2_col1\" class=\"data row2 col1\" >0</td>\n",
              "      <td id=\"T_8656f_row2_col2\" class=\"data row2 col2\" >0</td>\n",
              "      <td id=\"T_8656f_row2_col3\" class=\"data row2 col3\" >0</td>\n",
              "      <td id=\"T_8656f_row2_col4\" class=\"data row2 col4\" >0</td>\n",
              "      <td id=\"T_8656f_row2_col5\" class=\"data row2 col5\" >103</td>\n",
              "      <td id=\"T_8656f_row2_col6\" class=\"data row2 col6\" >242</td>\n",
              "      <td id=\"T_8656f_row2_col7\" class=\"data row2 col7\" >254</td>\n",
              "      <td id=\"T_8656f_row2_col8\" class=\"data row2 col8\" >254</td>\n",
              "      <td id=\"T_8656f_row2_col9\" class=\"data row2 col9\" >254</td>\n",
              "      <td id=\"T_8656f_row2_col10\" class=\"data row2 col10\" >254</td>\n",
              "      <td id=\"T_8656f_row2_col11\" class=\"data row2 col11\" >254</td>\n",
              "      <td id=\"T_8656f_row2_col12\" class=\"data row2 col12\" >66</td>\n",
              "      <td id=\"T_8656f_row2_col13\" class=\"data row2 col13\" >0</td>\n",
              "      <td id=\"T_8656f_row2_col14\" class=\"data row2 col14\" >0</td>\n",
              "      <td id=\"T_8656f_row2_col15\" class=\"data row2 col15\" >0</td>\n",
              "    </tr>\n",
              "    <tr>\n",
              "      <th id=\"T_8656f_level0_row3\" class=\"row_heading level0 row3\" >3</th>\n",
              "      <td id=\"T_8656f_row3_col0\" class=\"data row3 col0\" >0</td>\n",
              "      <td id=\"T_8656f_row3_col1\" class=\"data row3 col1\" >0</td>\n",
              "      <td id=\"T_8656f_row3_col2\" class=\"data row3 col2\" >0</td>\n",
              "      <td id=\"T_8656f_row3_col3\" class=\"data row3 col3\" >0</td>\n",
              "      <td id=\"T_8656f_row3_col4\" class=\"data row3 col4\" >0</td>\n",
              "      <td id=\"T_8656f_row3_col5\" class=\"data row3 col5\" >18</td>\n",
              "      <td id=\"T_8656f_row3_col6\" class=\"data row3 col6\" >232</td>\n",
              "      <td id=\"T_8656f_row3_col7\" class=\"data row3 col7\" >254</td>\n",
              "      <td id=\"T_8656f_row3_col8\" class=\"data row3 col8\" >254</td>\n",
              "      <td id=\"T_8656f_row3_col9\" class=\"data row3 col9\" >254</td>\n",
              "      <td id=\"T_8656f_row3_col10\" class=\"data row3 col10\" >254</td>\n",
              "      <td id=\"T_8656f_row3_col11\" class=\"data row3 col11\" >254</td>\n",
              "      <td id=\"T_8656f_row3_col12\" class=\"data row3 col12\" >238</td>\n",
              "      <td id=\"T_8656f_row3_col13\" class=\"data row3 col13\" >70</td>\n",
              "      <td id=\"T_8656f_row3_col14\" class=\"data row3 col14\" >0</td>\n",
              "      <td id=\"T_8656f_row3_col15\" class=\"data row3 col15\" >0</td>\n",
              "    </tr>\n",
              "    <tr>\n",
              "      <th id=\"T_8656f_level0_row4\" class=\"row_heading level0 row4\" >4</th>\n",
              "      <td id=\"T_8656f_row4_col0\" class=\"data row4 col0\" >0</td>\n",
              "      <td id=\"T_8656f_row4_col1\" class=\"data row4 col1\" >0</td>\n",
              "      <td id=\"T_8656f_row4_col2\" class=\"data row4 col2\" >0</td>\n",
              "      <td id=\"T_8656f_row4_col3\" class=\"data row4 col3\" >0</td>\n",
              "      <td id=\"T_8656f_row4_col4\" class=\"data row4 col4\" >0</td>\n",
              "      <td id=\"T_8656f_row4_col5\" class=\"data row4 col5\" >0</td>\n",
              "      <td id=\"T_8656f_row4_col6\" class=\"data row4 col6\" >104</td>\n",
              "      <td id=\"T_8656f_row4_col7\" class=\"data row4 col7\" >244</td>\n",
              "      <td id=\"T_8656f_row4_col8\" class=\"data row4 col8\" >254</td>\n",
              "      <td id=\"T_8656f_row4_col9\" class=\"data row4 col9\" >224</td>\n",
              "      <td id=\"T_8656f_row4_col10\" class=\"data row4 col10\" >254</td>\n",
              "      <td id=\"T_8656f_row4_col11\" class=\"data row4 col11\" >254</td>\n",
              "      <td id=\"T_8656f_row4_col12\" class=\"data row4 col12\" >254</td>\n",
              "      <td id=\"T_8656f_row4_col13\" class=\"data row4 col13\" >141</td>\n",
              "      <td id=\"T_8656f_row4_col14\" class=\"data row4 col14\" >0</td>\n",
              "      <td id=\"T_8656f_row4_col15\" class=\"data row4 col15\" >0</td>\n",
              "    </tr>\n",
              "    <tr>\n",
              "      <th id=\"T_8656f_level0_row5\" class=\"row_heading level0 row5\" >5</th>\n",
              "      <td id=\"T_8656f_row5_col0\" class=\"data row5 col0\" >0</td>\n",
              "      <td id=\"T_8656f_row5_col1\" class=\"data row5 col1\" >0</td>\n",
              "      <td id=\"T_8656f_row5_col2\" class=\"data row5 col2\" >0</td>\n",
              "      <td id=\"T_8656f_row5_col3\" class=\"data row5 col3\" >0</td>\n",
              "      <td id=\"T_8656f_row5_col4\" class=\"data row5 col4\" >0</td>\n",
              "      <td id=\"T_8656f_row5_col5\" class=\"data row5 col5\" >0</td>\n",
              "      <td id=\"T_8656f_row5_col6\" class=\"data row5 col6\" >0</td>\n",
              "      <td id=\"T_8656f_row5_col7\" class=\"data row5 col7\" >207</td>\n",
              "      <td id=\"T_8656f_row5_col8\" class=\"data row5 col8\" >254</td>\n",
              "      <td id=\"T_8656f_row5_col9\" class=\"data row5 col9\" >210</td>\n",
              "      <td id=\"T_8656f_row5_col10\" class=\"data row5 col10\" >254</td>\n",
              "      <td id=\"T_8656f_row5_col11\" class=\"data row5 col11\" >254</td>\n",
              "      <td id=\"T_8656f_row5_col12\" class=\"data row5 col12\" >254</td>\n",
              "      <td id=\"T_8656f_row5_col13\" class=\"data row5 col13\" >34</td>\n",
              "      <td id=\"T_8656f_row5_col14\" class=\"data row5 col14\" >0</td>\n",
              "      <td id=\"T_8656f_row5_col15\" class=\"data row5 col15\" >0</td>\n",
              "    </tr>\n",
              "    <tr>\n",
              "      <th id=\"T_8656f_level0_row6\" class=\"row_heading level0 row6\" >6</th>\n",
              "      <td id=\"T_8656f_row6_col0\" class=\"data row6 col0\" >0</td>\n",
              "      <td id=\"T_8656f_row6_col1\" class=\"data row6 col1\" >0</td>\n",
              "      <td id=\"T_8656f_row6_col2\" class=\"data row6 col2\" >0</td>\n",
              "      <td id=\"T_8656f_row6_col3\" class=\"data row6 col3\" >0</td>\n",
              "      <td id=\"T_8656f_row6_col4\" class=\"data row6 col4\" >0</td>\n",
              "      <td id=\"T_8656f_row6_col5\" class=\"data row6 col5\" >0</td>\n",
              "      <td id=\"T_8656f_row6_col6\" class=\"data row6 col6\" >0</td>\n",
              "      <td id=\"T_8656f_row6_col7\" class=\"data row6 col7\" >84</td>\n",
              "      <td id=\"T_8656f_row6_col8\" class=\"data row6 col8\" >206</td>\n",
              "      <td id=\"T_8656f_row6_col9\" class=\"data row6 col9\" >254</td>\n",
              "      <td id=\"T_8656f_row6_col10\" class=\"data row6 col10\" >254</td>\n",
              "      <td id=\"T_8656f_row6_col11\" class=\"data row6 col11\" >254</td>\n",
              "      <td id=\"T_8656f_row6_col12\" class=\"data row6 col12\" >254</td>\n",
              "      <td id=\"T_8656f_row6_col13\" class=\"data row6 col13\" >41</td>\n",
              "      <td id=\"T_8656f_row6_col14\" class=\"data row6 col14\" >0</td>\n",
              "      <td id=\"T_8656f_row6_col15\" class=\"data row6 col15\" >0</td>\n",
              "    </tr>\n",
              "    <tr>\n",
              "      <th id=\"T_8656f_level0_row7\" class=\"row_heading level0 row7\" >7</th>\n",
              "      <td id=\"T_8656f_row7_col0\" class=\"data row7 col0\" >0</td>\n",
              "      <td id=\"T_8656f_row7_col1\" class=\"data row7 col1\" >0</td>\n",
              "      <td id=\"T_8656f_row7_col2\" class=\"data row7 col2\" >0</td>\n",
              "      <td id=\"T_8656f_row7_col3\" class=\"data row7 col3\" >0</td>\n",
              "      <td id=\"T_8656f_row7_col4\" class=\"data row7 col4\" >0</td>\n",
              "      <td id=\"T_8656f_row7_col5\" class=\"data row7 col5\" >0</td>\n",
              "      <td id=\"T_8656f_row7_col6\" class=\"data row7 col6\" >0</td>\n",
              "      <td id=\"T_8656f_row7_col7\" class=\"data row7 col7\" >0</td>\n",
              "      <td id=\"T_8656f_row7_col8\" class=\"data row7 col8\" >24</td>\n",
              "      <td id=\"T_8656f_row7_col9\" class=\"data row7 col9\" >209</td>\n",
              "      <td id=\"T_8656f_row7_col10\" class=\"data row7 col10\" >254</td>\n",
              "      <td id=\"T_8656f_row7_col11\" class=\"data row7 col11\" >254</td>\n",
              "      <td id=\"T_8656f_row7_col12\" class=\"data row7 col12\" >254</td>\n",
              "      <td id=\"T_8656f_row7_col13\" class=\"data row7 col13\" >171</td>\n",
              "      <td id=\"T_8656f_row7_col14\" class=\"data row7 col14\" >0</td>\n",
              "      <td id=\"T_8656f_row7_col15\" class=\"data row7 col15\" >0</td>\n",
              "    </tr>\n",
              "    <tr>\n",
              "      <th id=\"T_8656f_level0_row8\" class=\"row_heading level0 row8\" >8</th>\n",
              "      <td id=\"T_8656f_row8_col0\" class=\"data row8 col0\" >0</td>\n",
              "      <td id=\"T_8656f_row8_col1\" class=\"data row8 col1\" >0</td>\n",
              "      <td id=\"T_8656f_row8_col2\" class=\"data row8 col2\" >0</td>\n",
              "      <td id=\"T_8656f_row8_col3\" class=\"data row8 col3\" >0</td>\n",
              "      <td id=\"T_8656f_row8_col4\" class=\"data row8 col4\" >0</td>\n",
              "      <td id=\"T_8656f_row8_col5\" class=\"data row8 col5\" >0</td>\n",
              "      <td id=\"T_8656f_row8_col6\" class=\"data row8 col6\" >0</td>\n",
              "      <td id=\"T_8656f_row8_col7\" class=\"data row8 col7\" >91</td>\n",
              "      <td id=\"T_8656f_row8_col8\" class=\"data row8 col8\" >137</td>\n",
              "      <td id=\"T_8656f_row8_col9\" class=\"data row8 col9\" >253</td>\n",
              "      <td id=\"T_8656f_row8_col10\" class=\"data row8 col10\" >254</td>\n",
              "      <td id=\"T_8656f_row8_col11\" class=\"data row8 col11\" >254</td>\n",
              "      <td id=\"T_8656f_row8_col12\" class=\"data row8 col12\" >254</td>\n",
              "      <td id=\"T_8656f_row8_col13\" class=\"data row8 col13\" >112</td>\n",
              "      <td id=\"T_8656f_row8_col14\" class=\"data row8 col14\" >0</td>\n",
              "      <td id=\"T_8656f_row8_col15\" class=\"data row8 col15\" >0</td>\n",
              "    </tr>\n",
              "    <tr>\n",
              "      <th id=\"T_8656f_level0_row9\" class=\"row_heading level0 row9\" >9</th>\n",
              "      <td id=\"T_8656f_row9_col0\" class=\"data row9 col0\" >0</td>\n",
              "      <td id=\"T_8656f_row9_col1\" class=\"data row9 col1\" >0</td>\n",
              "      <td id=\"T_8656f_row9_col2\" class=\"data row9 col2\" >0</td>\n",
              "      <td id=\"T_8656f_row9_col3\" class=\"data row9 col3\" >0</td>\n",
              "      <td id=\"T_8656f_row9_col4\" class=\"data row9 col4\" >0</td>\n",
              "      <td id=\"T_8656f_row9_col5\" class=\"data row9 col5\" >40</td>\n",
              "      <td id=\"T_8656f_row9_col6\" class=\"data row9 col6\" >214</td>\n",
              "      <td id=\"T_8656f_row9_col7\" class=\"data row9 col7\" >250</td>\n",
              "      <td id=\"T_8656f_row9_col8\" class=\"data row9 col8\" >254</td>\n",
              "      <td id=\"T_8656f_row9_col9\" class=\"data row9 col9\" >254</td>\n",
              "      <td id=\"T_8656f_row9_col10\" class=\"data row9 col10\" >254</td>\n",
              "      <td id=\"T_8656f_row9_col11\" class=\"data row9 col11\" >254</td>\n",
              "      <td id=\"T_8656f_row9_col12\" class=\"data row9 col12\" >254</td>\n",
              "      <td id=\"T_8656f_row9_col13\" class=\"data row9 col13\" >34</td>\n",
              "      <td id=\"T_8656f_row9_col14\" class=\"data row9 col14\" >0</td>\n",
              "      <td id=\"T_8656f_row9_col15\" class=\"data row9 col15\" >0</td>\n",
              "    </tr>\n",
              "    <tr>\n",
              "      <th id=\"T_8656f_level0_row10\" class=\"row_heading level0 row10\" >10</th>\n",
              "      <td id=\"T_8656f_row10_col0\" class=\"data row10 col0\" >0</td>\n",
              "      <td id=\"T_8656f_row10_col1\" class=\"data row10 col1\" >0</td>\n",
              "      <td id=\"T_8656f_row10_col2\" class=\"data row10 col2\" >0</td>\n",
              "      <td id=\"T_8656f_row10_col3\" class=\"data row10 col3\" >0</td>\n",
              "      <td id=\"T_8656f_row10_col4\" class=\"data row10 col4\" >0</td>\n",
              "      <td id=\"T_8656f_row10_col5\" class=\"data row10 col5\" >81</td>\n",
              "      <td id=\"T_8656f_row10_col6\" class=\"data row10 col6\" >247</td>\n",
              "      <td id=\"T_8656f_row10_col7\" class=\"data row10 col7\" >254</td>\n",
              "      <td id=\"T_8656f_row10_col8\" class=\"data row10 col8\" >254</td>\n",
              "      <td id=\"T_8656f_row10_col9\" class=\"data row10 col9\" >254</td>\n",
              "      <td id=\"T_8656f_row10_col10\" class=\"data row10 col10\" >254</td>\n",
              "      <td id=\"T_8656f_row10_col11\" class=\"data row10 col11\" >254</td>\n",
              "      <td id=\"T_8656f_row10_col12\" class=\"data row10 col12\" >254</td>\n",
              "      <td id=\"T_8656f_row10_col13\" class=\"data row10 col13\" >146</td>\n",
              "      <td id=\"T_8656f_row10_col14\" class=\"data row10 col14\" >0</td>\n",
              "      <td id=\"T_8656f_row10_col15\" class=\"data row10 col15\" >0</td>\n",
              "    </tr>\n",
              "    <tr>\n",
              "      <th id=\"T_8656f_level0_row11\" class=\"row_heading level0 row11\" >11</th>\n",
              "      <td id=\"T_8656f_row11_col0\" class=\"data row11 col0\" >0</td>\n",
              "      <td id=\"T_8656f_row11_col1\" class=\"data row11 col1\" >0</td>\n",
              "      <td id=\"T_8656f_row11_col2\" class=\"data row11 col2\" >0</td>\n",
              "      <td id=\"T_8656f_row11_col3\" class=\"data row11 col3\" >0</td>\n",
              "      <td id=\"T_8656f_row11_col4\" class=\"data row11 col4\" >0</td>\n",
              "      <td id=\"T_8656f_row11_col5\" class=\"data row11 col5\" >0</td>\n",
              "      <td id=\"T_8656f_row11_col6\" class=\"data row11 col6\" >110</td>\n",
              "      <td id=\"T_8656f_row11_col7\" class=\"data row11 col7\" >246</td>\n",
              "      <td id=\"T_8656f_row11_col8\" class=\"data row11 col8\" >254</td>\n",
              "      <td id=\"T_8656f_row11_col9\" class=\"data row11 col9\" >254</td>\n",
              "      <td id=\"T_8656f_row11_col10\" class=\"data row11 col10\" >254</td>\n",
              "      <td id=\"T_8656f_row11_col11\" class=\"data row11 col11\" >254</td>\n",
              "      <td id=\"T_8656f_row11_col12\" class=\"data row11 col12\" >254</td>\n",
              "      <td id=\"T_8656f_row11_col13\" class=\"data row11 col13\" >171</td>\n",
              "      <td id=\"T_8656f_row11_col14\" class=\"data row11 col14\" >0</td>\n",
              "      <td id=\"T_8656f_row11_col15\" class=\"data row11 col15\" >0</td>\n",
              "    </tr>\n",
              "    <tr>\n",
              "      <th id=\"T_8656f_level0_row12\" class=\"row_heading level0 row12\" >12</th>\n",
              "      <td id=\"T_8656f_row12_col0\" class=\"data row12 col0\" >0</td>\n",
              "      <td id=\"T_8656f_row12_col1\" class=\"data row12 col1\" >0</td>\n",
              "      <td id=\"T_8656f_row12_col2\" class=\"data row12 col2\" >0</td>\n",
              "      <td id=\"T_8656f_row12_col3\" class=\"data row12 col3\" >0</td>\n",
              "      <td id=\"T_8656f_row12_col4\" class=\"data row12 col4\" >0</td>\n",
              "      <td id=\"T_8656f_row12_col5\" class=\"data row12 col5\" >0</td>\n",
              "      <td id=\"T_8656f_row12_col6\" class=\"data row12 col6\" >0</td>\n",
              "      <td id=\"T_8656f_row12_col7\" class=\"data row12 col7\" >73</td>\n",
              "      <td id=\"T_8656f_row12_col8\" class=\"data row12 col8\" >89</td>\n",
              "      <td id=\"T_8656f_row12_col9\" class=\"data row12 col9\" >89</td>\n",
              "      <td id=\"T_8656f_row12_col10\" class=\"data row12 col10\" >93</td>\n",
              "      <td id=\"T_8656f_row12_col11\" class=\"data row12 col11\" >240</td>\n",
              "      <td id=\"T_8656f_row12_col12\" class=\"data row12 col12\" >254</td>\n",
              "      <td id=\"T_8656f_row12_col13\" class=\"data row12 col13\" >171</td>\n",
              "      <td id=\"T_8656f_row12_col14\" class=\"data row12 col14\" >0</td>\n",
              "      <td id=\"T_8656f_row12_col15\" class=\"data row12 col15\" >0</td>\n",
              "    </tr>\n",
              "    <tr>\n",
              "      <th id=\"T_8656f_level0_row13\" class=\"row_heading level0 row13\" >13</th>\n",
              "      <td id=\"T_8656f_row13_col0\" class=\"data row13 col0\" >0</td>\n",
              "      <td id=\"T_8656f_row13_col1\" class=\"data row13 col1\" >0</td>\n",
              "      <td id=\"T_8656f_row13_col2\" class=\"data row13 col2\" >0</td>\n",
              "      <td id=\"T_8656f_row13_col3\" class=\"data row13 col3\" >0</td>\n",
              "      <td id=\"T_8656f_row13_col4\" class=\"data row13 col4\" >0</td>\n",
              "      <td id=\"T_8656f_row13_col5\" class=\"data row13 col5\" >0</td>\n",
              "      <td id=\"T_8656f_row13_col6\" class=\"data row13 col6\" >0</td>\n",
              "      <td id=\"T_8656f_row13_col7\" class=\"data row13 col7\" >0</td>\n",
              "      <td id=\"T_8656f_row13_col8\" class=\"data row13 col8\" >0</td>\n",
              "      <td id=\"T_8656f_row13_col9\" class=\"data row13 col9\" >0</td>\n",
              "      <td id=\"T_8656f_row13_col10\" class=\"data row13 col10\" >1</td>\n",
              "      <td id=\"T_8656f_row13_col11\" class=\"data row13 col11\" >128</td>\n",
              "      <td id=\"T_8656f_row13_col12\" class=\"data row13 col12\" >254</td>\n",
              "      <td id=\"T_8656f_row13_col13\" class=\"data row13 col13\" >219</td>\n",
              "      <td id=\"T_8656f_row13_col14\" class=\"data row13 col14\" >31</td>\n",
              "      <td id=\"T_8656f_row13_col15\" class=\"data row13 col15\" >0</td>\n",
              "    </tr>\n",
              "    <tr>\n",
              "      <th id=\"T_8656f_level0_row14\" class=\"row_heading level0 row14\" >14</th>\n",
              "      <td id=\"T_8656f_row14_col0\" class=\"data row14 col0\" >0</td>\n",
              "      <td id=\"T_8656f_row14_col1\" class=\"data row14 col1\" >0</td>\n",
              "      <td id=\"T_8656f_row14_col2\" class=\"data row14 col2\" >0</td>\n",
              "      <td id=\"T_8656f_row14_col3\" class=\"data row14 col3\" >0</td>\n",
              "      <td id=\"T_8656f_row14_col4\" class=\"data row14 col4\" >0</td>\n",
              "      <td id=\"T_8656f_row14_col5\" class=\"data row14 col5\" >0</td>\n",
              "      <td id=\"T_8656f_row14_col6\" class=\"data row14 col6\" >0</td>\n",
              "      <td id=\"T_8656f_row14_col7\" class=\"data row14 col7\" >0</td>\n",
              "      <td id=\"T_8656f_row14_col8\" class=\"data row14 col8\" >0</td>\n",
              "      <td id=\"T_8656f_row14_col9\" class=\"data row14 col9\" >0</td>\n",
              "      <td id=\"T_8656f_row14_col10\" class=\"data row14 col10\" >7</td>\n",
              "      <td id=\"T_8656f_row14_col11\" class=\"data row14 col11\" >254</td>\n",
              "      <td id=\"T_8656f_row14_col12\" class=\"data row14 col12\" >254</td>\n",
              "      <td id=\"T_8656f_row14_col13\" class=\"data row14 col13\" >214</td>\n",
              "      <td id=\"T_8656f_row14_col14\" class=\"data row14 col14\" >28</td>\n",
              "      <td id=\"T_8656f_row14_col15\" class=\"data row14 col15\" >0</td>\n",
              "    </tr>\n",
              "    <tr>\n",
              "      <th id=\"T_8656f_level0_row15\" class=\"row_heading level0 row15\" >15</th>\n",
              "      <td id=\"T_8656f_row15_col0\" class=\"data row15 col0\" >0</td>\n",
              "      <td id=\"T_8656f_row15_col1\" class=\"data row15 col1\" >0</td>\n",
              "      <td id=\"T_8656f_row15_col2\" class=\"data row15 col2\" >0</td>\n",
              "      <td id=\"T_8656f_row15_col3\" class=\"data row15 col3\" >0</td>\n",
              "      <td id=\"T_8656f_row15_col4\" class=\"data row15 col4\" >0</td>\n",
              "      <td id=\"T_8656f_row15_col5\" class=\"data row15 col5\" >0</td>\n",
              "      <td id=\"T_8656f_row15_col6\" class=\"data row15 col6\" >0</td>\n",
              "      <td id=\"T_8656f_row15_col7\" class=\"data row15 col7\" >0</td>\n",
              "      <td id=\"T_8656f_row15_col8\" class=\"data row15 col8\" >0</td>\n",
              "      <td id=\"T_8656f_row15_col9\" class=\"data row15 col9\" >0</td>\n",
              "      <td id=\"T_8656f_row15_col10\" class=\"data row15 col10\" >138</td>\n",
              "      <td id=\"T_8656f_row15_col11\" class=\"data row15 col11\" >254</td>\n",
              "      <td id=\"T_8656f_row15_col12\" class=\"data row15 col12\" >254</td>\n",
              "      <td id=\"T_8656f_row15_col13\" class=\"data row15 col13\" >116</td>\n",
              "      <td id=\"T_8656f_row15_col14\" class=\"data row15 col14\" >0</td>\n",
              "      <td id=\"T_8656f_row15_col15\" class=\"data row15 col15\" >0</td>\n",
              "    </tr>\n",
              "    <tr>\n",
              "      <th id=\"T_8656f_level0_row16\" class=\"row_heading level0 row16\" >16</th>\n",
              "      <td id=\"T_8656f_row16_col0\" class=\"data row16 col0\" >0</td>\n",
              "      <td id=\"T_8656f_row16_col1\" class=\"data row16 col1\" >19</td>\n",
              "      <td id=\"T_8656f_row16_col2\" class=\"data row16 col2\" >177</td>\n",
              "      <td id=\"T_8656f_row16_col3\" class=\"data row16 col3\" >90</td>\n",
              "      <td id=\"T_8656f_row16_col4\" class=\"data row16 col4\" >0</td>\n",
              "      <td id=\"T_8656f_row16_col5\" class=\"data row16 col5\" >0</td>\n",
              "      <td id=\"T_8656f_row16_col6\" class=\"data row16 col6\" >0</td>\n",
              "      <td id=\"T_8656f_row16_col7\" class=\"data row16 col7\" >0</td>\n",
              "      <td id=\"T_8656f_row16_col8\" class=\"data row16 col8\" >0</td>\n",
              "      <td id=\"T_8656f_row16_col9\" class=\"data row16 col9\" >25</td>\n",
              "      <td id=\"T_8656f_row16_col10\" class=\"data row16 col10\" >240</td>\n",
              "      <td id=\"T_8656f_row16_col11\" class=\"data row16 col11\" >254</td>\n",
              "      <td id=\"T_8656f_row16_col12\" class=\"data row16 col12\" >254</td>\n",
              "      <td id=\"T_8656f_row16_col13\" class=\"data row16 col13\" >34</td>\n",
              "      <td id=\"T_8656f_row16_col14\" class=\"data row16 col14\" >0</td>\n",
              "      <td id=\"T_8656f_row16_col15\" class=\"data row16 col15\" >0</td>\n",
              "    </tr>\n",
              "    <tr>\n",
              "      <th id=\"T_8656f_level0_row17\" class=\"row_heading level0 row17\" >17</th>\n",
              "      <td id=\"T_8656f_row17_col0\" class=\"data row17 col0\" >0</td>\n",
              "      <td id=\"T_8656f_row17_col1\" class=\"data row17 col1\" >164</td>\n",
              "      <td id=\"T_8656f_row17_col2\" class=\"data row17 col2\" >254</td>\n",
              "      <td id=\"T_8656f_row17_col3\" class=\"data row17 col3\" >215</td>\n",
              "      <td id=\"T_8656f_row17_col4\" class=\"data row17 col4\" >63</td>\n",
              "      <td id=\"T_8656f_row17_col5\" class=\"data row17 col5\" >36</td>\n",
              "      <td id=\"T_8656f_row17_col6\" class=\"data row17 col6\" >0</td>\n",
              "      <td id=\"T_8656f_row17_col7\" class=\"data row17 col7\" >51</td>\n",
              "      <td id=\"T_8656f_row17_col8\" class=\"data row17 col8\" >89</td>\n",
              "      <td id=\"T_8656f_row17_col9\" class=\"data row17 col9\" >206</td>\n",
              "      <td id=\"T_8656f_row17_col10\" class=\"data row17 col10\" >254</td>\n",
              "      <td id=\"T_8656f_row17_col11\" class=\"data row17 col11\" >254</td>\n",
              "      <td id=\"T_8656f_row17_col12\" class=\"data row17 col12\" >139</td>\n",
              "      <td id=\"T_8656f_row17_col13\" class=\"data row17 col13\" >8</td>\n",
              "      <td id=\"T_8656f_row17_col14\" class=\"data row17 col14\" >0</td>\n",
              "      <td id=\"T_8656f_row17_col15\" class=\"data row17 col15\" >0</td>\n",
              "    </tr>\n",
              "    <tr>\n",
              "      <th id=\"T_8656f_level0_row18\" class=\"row_heading level0 row18\" >18</th>\n",
              "      <td id=\"T_8656f_row18_col0\" class=\"data row18 col0\" >0</td>\n",
              "      <td id=\"T_8656f_row18_col1\" class=\"data row18 col1\" >57</td>\n",
              "      <td id=\"T_8656f_row18_col2\" class=\"data row18 col2\" >197</td>\n",
              "      <td id=\"T_8656f_row18_col3\" class=\"data row18 col3\" >254</td>\n",
              "      <td id=\"T_8656f_row18_col4\" class=\"data row18 col4\" >254</td>\n",
              "      <td id=\"T_8656f_row18_col5\" class=\"data row18 col5\" >222</td>\n",
              "      <td id=\"T_8656f_row18_col6\" class=\"data row18 col6\" >180</td>\n",
              "      <td id=\"T_8656f_row18_col7\" class=\"data row18 col7\" >241</td>\n",
              "      <td id=\"T_8656f_row18_col8\" class=\"data row18 col8\" >254</td>\n",
              "      <td id=\"T_8656f_row18_col9\" class=\"data row18 col9\" >254</td>\n",
              "      <td id=\"T_8656f_row18_col10\" class=\"data row18 col10\" >253</td>\n",
              "      <td id=\"T_8656f_row18_col11\" class=\"data row18 col11\" >213</td>\n",
              "      <td id=\"T_8656f_row18_col12\" class=\"data row18 col12\" >11</td>\n",
              "      <td id=\"T_8656f_row18_col13\" class=\"data row18 col13\" >0</td>\n",
              "      <td id=\"T_8656f_row18_col14\" class=\"data row18 col14\" >0</td>\n",
              "      <td id=\"T_8656f_row18_col15\" class=\"data row18 col15\" >0</td>\n",
              "    </tr>\n",
              "    <tr>\n",
              "      <th id=\"T_8656f_level0_row19\" class=\"row_heading level0 row19\" >19</th>\n",
              "      <td id=\"T_8656f_row19_col0\" class=\"data row19 col0\" >0</td>\n",
              "      <td id=\"T_8656f_row19_col1\" class=\"data row19 col1\" >0</td>\n",
              "      <td id=\"T_8656f_row19_col2\" class=\"data row19 col2\" >140</td>\n",
              "      <td id=\"T_8656f_row19_col3\" class=\"data row19 col3\" >105</td>\n",
              "      <td id=\"T_8656f_row19_col4\" class=\"data row19 col4\" >254</td>\n",
              "      <td id=\"T_8656f_row19_col5\" class=\"data row19 col5\" >254</td>\n",
              "      <td id=\"T_8656f_row19_col6\" class=\"data row19 col6\" >254</td>\n",
              "      <td id=\"T_8656f_row19_col7\" class=\"data row19 col7\" >254</td>\n",
              "      <td id=\"T_8656f_row19_col8\" class=\"data row19 col8\" >254</td>\n",
              "      <td id=\"T_8656f_row19_col9\" class=\"data row19 col9\" >254</td>\n",
              "      <td id=\"T_8656f_row19_col10\" class=\"data row19 col10\" >236</td>\n",
              "      <td id=\"T_8656f_row19_col11\" class=\"data row19 col11\" >0</td>\n",
              "      <td id=\"T_8656f_row19_col12\" class=\"data row19 col12\" >0</td>\n",
              "      <td id=\"T_8656f_row19_col13\" class=\"data row19 col13\" >0</td>\n",
              "      <td id=\"T_8656f_row19_col14\" class=\"data row19 col14\" >0</td>\n",
              "      <td id=\"T_8656f_row19_col15\" class=\"data row19 col15\" >0</td>\n",
              "    </tr>\n",
              "    <tr>\n",
              "      <th id=\"T_8656f_level0_row20\" class=\"row_heading level0 row20\" >20</th>\n",
              "      <td id=\"T_8656f_row20_col0\" class=\"data row20 col0\" >0</td>\n",
              "      <td id=\"T_8656f_row20_col1\" class=\"data row20 col1\" >0</td>\n",
              "      <td id=\"T_8656f_row20_col2\" class=\"data row20 col2\" >0</td>\n",
              "      <td id=\"T_8656f_row20_col3\" class=\"data row20 col3\" >7</td>\n",
              "      <td id=\"T_8656f_row20_col4\" class=\"data row20 col4\" >117</td>\n",
              "      <td id=\"T_8656f_row20_col5\" class=\"data row20 col5\" >117</td>\n",
              "      <td id=\"T_8656f_row20_col6\" class=\"data row20 col6\" >165</td>\n",
              "      <td id=\"T_8656f_row20_col7\" class=\"data row20 col7\" >254</td>\n",
              "      <td id=\"T_8656f_row20_col8\" class=\"data row20 col8\" >254</td>\n",
              "      <td id=\"T_8656f_row20_col9\" class=\"data row20 col9\" >239</td>\n",
              "      <td id=\"T_8656f_row20_col10\" class=\"data row20 col10\" >50</td>\n",
              "      <td id=\"T_8656f_row20_col11\" class=\"data row20 col11\" >0</td>\n",
              "      <td id=\"T_8656f_row20_col12\" class=\"data row20 col12\" >0</td>\n",
              "      <td id=\"T_8656f_row20_col13\" class=\"data row20 col13\" >0</td>\n",
              "      <td id=\"T_8656f_row20_col14\" class=\"data row20 col14\" >0</td>\n",
              "      <td id=\"T_8656f_row20_col15\" class=\"data row20 col15\" >0</td>\n",
              "    </tr>\n",
              "    <tr>\n",
              "      <th id=\"T_8656f_level0_row21\" class=\"row_heading level0 row21\" >21</th>\n",
              "      <td id=\"T_8656f_row21_col0\" class=\"data row21 col0\" >0</td>\n",
              "      <td id=\"T_8656f_row21_col1\" class=\"data row21 col1\" >0</td>\n",
              "      <td id=\"T_8656f_row21_col2\" class=\"data row21 col2\" >0</td>\n",
              "      <td id=\"T_8656f_row21_col3\" class=\"data row21 col3\" >0</td>\n",
              "      <td id=\"T_8656f_row21_col4\" class=\"data row21 col4\" >0</td>\n",
              "      <td id=\"T_8656f_row21_col5\" class=\"data row21 col5\" >0</td>\n",
              "      <td id=\"T_8656f_row21_col6\" class=\"data row21 col6\" >0</td>\n",
              "      <td id=\"T_8656f_row21_col7\" class=\"data row21 col7\" >0</td>\n",
              "      <td id=\"T_8656f_row21_col8\" class=\"data row21 col8\" >0</td>\n",
              "      <td id=\"T_8656f_row21_col9\" class=\"data row21 col9\" >0</td>\n",
              "      <td id=\"T_8656f_row21_col10\" class=\"data row21 col10\" >0</td>\n",
              "      <td id=\"T_8656f_row21_col11\" class=\"data row21 col11\" >0</td>\n",
              "      <td id=\"T_8656f_row21_col12\" class=\"data row21 col12\" >0</td>\n",
              "      <td id=\"T_8656f_row21_col13\" class=\"data row21 col13\" >0</td>\n",
              "      <td id=\"T_8656f_row21_col14\" class=\"data row21 col14\" >0</td>\n",
              "      <td id=\"T_8656f_row21_col15\" class=\"data row21 col15\" >0</td>\n",
              "    </tr>\n",
              "  </tbody>\n",
              "</table>\n"
            ]
          },
          "metadata": {},
          "execution_count": 14
        }
      ]
    },
    {
      "cell_type": "code",
      "source": [
        "tensor([[1,2,3],[10,20,30]]).shape"
      ],
      "metadata": {
        "colab": {
          "base_uri": "https://localhost:8080/"
        },
        "id": "TjLMz3q8_wpN",
        "outputId": "2bcb443b-8cf3-4e1f-9217-9ff4a2fe9eef"
      },
      "execution_count": 15,
      "outputs": [
        {
          "output_type": "execute_result",
          "data": {
            "text/plain": [
              "torch.Size([2, 3])"
            ]
          },
          "metadata": {},
          "execution_count": 15
        }
      ]
    },
    {
      "cell_type": "code",
      "source": [
        "# multiplication is an \"element-wise\" operation\n",
        "tensor([[1,2,3],[10,20,30]]) * tensor([4,5,6])"
      ],
      "metadata": {
        "colab": {
          "base_uri": "https://localhost:8080/"
        },
        "id": "-SRljz9HlieL",
        "outputId": "b6984072-3883-44da-bab6-4c41a8eb9f99"
      },
      "execution_count": 16,
      "outputs": [
        {
          "output_type": "execute_result",
          "data": {
            "text/plain": [
              "tensor([[  4,  10,  18],\n",
              "        [ 40, 100, 180]])"
            ]
          },
          "metadata": {},
          "execution_count": 16
        }
      ]
    },
    {
      "cell_type": "markdown",
      "source": [
        "# Baseline Model - pixel similarity"
      ],
      "metadata": {
        "id": "ia-hvYkO7X02"
      }
    },
    {
      "cell_type": "code",
      "source": [
        "from torchvision.transforms.functional import to_tensor\n",
        "\n",
        "# Load all the images into a tensor.\n",
        "# `to_tensor` converts the image to a tensor, automatically scaling\n",
        "# the image data to a range of [0, 1].\n",
        "def load_images(path):\n",
        "  images = [\n",
        "      to_tensor(Image.open(img)).to(device) # move to GPU\n",
        "      for img in path.ls().sorted()\n",
        "  ]\n",
        "  return torch.stack(images)\n",
        "\n",
        "train_threes_tensor = load_images(path/\"train/3\")"
      ],
      "metadata": {
        "id": "w5-LsLmr7AuK"
      },
      "execution_count": 17,
      "outputs": []
    },
    {
      "cell_type": "code",
      "source": [
        "train_threes_tensor.shape"
      ],
      "metadata": {
        "colab": {
          "base_uri": "https://localhost:8080/"
        },
        "id": "lKPsQIiK8Dru",
        "outputId": "0ef4aa57-ad00-46c9-d19c-b32aaa325420"
      },
      "execution_count": 18,
      "outputs": [
        {
          "output_type": "execute_result",
          "data": {
            "text/plain": [
              "torch.Size([6131, 1, 28, 28])"
            ]
          },
          "metadata": {},
          "execution_count": 18
        }
      ]
    },
    {
      "cell_type": "code",
      "source": [
        "train_threes_tensor.dtype"
      ],
      "metadata": {
        "colab": {
          "base_uri": "https://localhost:8080/"
        },
        "id": "3pykp-RX8-IX",
        "outputId": "c82fc1c4-1a0f-4dd2-8fa9-ea610661eaf8"
      },
      "execution_count": 19,
      "outputs": [
        {
          "output_type": "execute_result",
          "data": {
            "text/plain": [
              "torch.float32"
            ]
          },
          "metadata": {},
          "execution_count": 19
        }
      ]
    },
    {
      "cell_type": "code",
      "source": [
        "for i in range(3):\n",
        "  show_image(train_threes_tensor[i])"
      ],
      "metadata": {
        "colab": {
          "base_uri": "https://localhost:8080/",
          "height": 308
        },
        "id": "UaGtuFe4AFoE",
        "outputId": "ef2cb0e2-668d-4798-f424-fe9b68feefc3"
      },
      "execution_count": 20,
      "outputs": [
        {
          "output_type": "display_data",
          "data": {
            "text/plain": [
              "<Figure size 100x100 with 1 Axes>"
            ],
            "image/png": "[encoded data removed]"
          },
          "metadata": {}
        },
        {
          "output_type": "display_data",
          "data": {
            "text/plain": [
              "<Figure size 100x100 with 1 Axes>"
            ],
            "image/png": "[encoded data removed]"
          },
          "metadata": {}
        },
        {
          "output_type": "display_data",
          "data": {
            "text/plain": [
              "<Figure size 100x100 with 1 Axes>"
            ],
            "image/png": "[encoded data removed]"
          },
          "metadata": {}
        }
      ]
    },
    {
      "cell_type": "code",
      "source": [
        "train_threes_tensor = load_images(path/\"train/3\")\n",
        "train_sevens_tensor = load_images(path/\"train/7\")\n",
        "valid_threes_tensor = load_images(path/\"valid/3\")\n",
        "valid_sevens_tensor = load_images(path/\"valid/7\")"
      ],
      "metadata": {
        "id": "uwpquLaGAjyW"
      },
      "execution_count": 21,
      "outputs": []
    },
    {
      "cell_type": "code",
      "source": [
        "print(train_threes_tensor.shape)\n",
        "print(train_sevens_tensor.shape)\n",
        "print(valid_threes_tensor.shape)\n",
        "print(valid_sevens_tensor.shape)"
      ],
      "metadata": {
        "colab": {
          "base_uri": "https://localhost:8080/"
        },
        "id": "VxHUwjJeBEto",
        "outputId": "59256dd7-c8a6-4783-f161-88d9fafc07f4"
      },
      "execution_count": 22,
      "outputs": [
        {
          "output_type": "stream",
          "name": "stdout",
          "text": [
            "torch.Size([6131, 1, 28, 28])\n",
            "torch.Size([6265, 1, 28, 28])\n",
            "torch.Size([1010, 1, 28, 28])\n",
            "torch.Size([1028, 1, 28, 28])\n"
          ]
        }
      ]
    },
    {
      "cell_type": "code",
      "source": [
        "# Calculate the average 3, 7, etc.\n",
        "train_threes_avg = train_threes_tensor.mean(dim=0)\n",
        "train_sevens_avg = train_sevens_tensor.mean(dim=0)\n",
        "valid_threes_avg = valid_threes_tensor.mean(dim=0)\n",
        "valid_sevens_avg = valid_sevens_tensor.mean(dim=0)\n",
        "show_image(train_threes_avg)\n",
        "show_image(train_sevens_avg)\n",
        "show_image(valid_threes_avg)\n",
        "show_image(valid_sevens_avg)"
      ],
      "metadata": {
        "colab": {
          "base_uri": "https://localhost:8080/",
          "height": 422
        },
        "id": "bro86YvMBJ1X",
        "outputId": "b3a60711-61a8-425a-df61-343a2c2cd353"
      },
      "execution_count": 23,
      "outputs": [
        {
          "output_type": "execute_result",
          "data": {
            "text/plain": [
              "<Axes: >"
            ]
          },
          "metadata": {},
          "execution_count": 23
        },
        {
          "output_type": "display_data",
          "data": {
            "text/plain": [
              "<Figure size 100x100 with 1 Axes>"
            ],
            "image/png": "[encoded data removed]"
          },
          "metadata": {}
        },
        {
          "output_type": "display_data",
          "data": {
            "text/plain": [
              "<Figure size 100x100 with 1 Axes>"
            ],
            "image/png": "[encoded data removed]"
          },
          "metadata": {}
        },
        {
          "output_type": "display_data",
          "data": {
            "text/plain": [
              "<Figure size 100x100 with 1 Axes>"
            ],
            "image/png": "[encoded data removed]"
          },
          "metadata": {}
        },
        {
          "output_type": "display_data",
          "data": {
            "text/plain": [
              "<Figure size 100x100 with 1 Axes>"
            ],
            "image/png": "[encoded data removed]"
          },
          "metadata": {}
        }
      ]
    },
    {
      "cell_type": "code",
      "source": [
        "# is there a difference between training and validation averages?\n",
        "show_image(train_threes_avg - valid_threes_avg)\n",
        "show_image(train_sevens_avg - valid_sevens_avg)"
      ],
      "metadata": {
        "colab": {
          "base_uri": "https://localhost:8080/",
          "height": 228
        },
        "id": "EfoVYIyxBef3",
        "outputId": "1899f790-4d8c-49d8-a7ad-cf821d43e91c"
      },
      "execution_count": 24,
      "outputs": [
        {
          "output_type": "execute_result",
          "data": {
            "text/plain": [
              "<Axes: >"
            ]
          },
          "metadata": {},
          "execution_count": 24
        },
        {
          "output_type": "display_data",
          "data": {
            "text/plain": [
              "<Figure size 100x100 with 1 Axes>"
            ],
            "image/png": "[encoded data removed]"
          },
          "metadata": {}
        },
        {
          "output_type": "display_data",
          "data": {
            "text/plain": [
              "<Figure size 100x100 with 1 Axes>"
            ],
            "image/png": "[encoded data removed]"
          },
          "metadata": {}
        }
      ]
    },
    {
      "cell_type": "code",
      "source": [
        "a_3 = train_threes_tensor[1]\n",
        "dist = train_threes_avg - a_3\n",
        "show_image(dist)\n",
        "dist_abs = dist.abs()\n",
        "show_image(dist_abs)\n",
        "dist_abs_mean = dist_abs.mean()\n",
        "print(\"mean distance:\", dist_abs_mean)\n",
        "dist_square = dist**2\n",
        "dist_rms = dist_square.mean().sqrt()\n",
        "show_image(dist_square)\n",
        "print(\"root mean squared distance:\", dist_rms)"
      ],
      "metadata": {
        "colab": {
          "base_uri": "https://localhost:8080/",
          "height": 343
        },
        "id": "ylqveFwFD_Si",
        "outputId": "72db7450-ce31-45f0-d7ac-22f0435c9191"
      },
      "execution_count": 25,
      "outputs": [
        {
          "output_type": "stream",
          "name": "stdout",
          "text": [
            "mean distance: tensor(0.1114)\n",
            "root mean squared distance: tensor(0.2021)\n"
          ]
        },
        {
          "output_type": "display_data",
          "data": {
            "text/plain": [
              "<Figure size 100x100 with 1 Axes>"
            ],
            "image/png": "[encoded data removed]"
          },
          "metadata": {}
        },
        {
          "output_type": "display_data",
          "data": {
            "text/plain": [
              "<Figure size 100x100 with 1 Axes>"
            ],
            "image/png": "[encoded data removed]"
          },
          "metadata": {}
        },
        {
          "output_type": "display_data",
          "data": {
            "text/plain": [
              "<Figure size 100x100 with 1 Axes>"
            ],
            "image/png": "[encoded data removed]"
          },
          "metadata": {}
        }
      ]
    },
    {
      "cell_type": "code",
      "source": [
        "# Is it a 3? or a 7?\n",
        "a_3 = train_threes_tensor[1]\n",
        "F.l1_loss(a_3, train_threes_avg), F.mse_loss(a_3, train_threes_avg).sqrt()"
      ],
      "metadata": {
        "colab": {
          "base_uri": "https://localhost:8080/"
        },
        "id": "uu3UWFCjEXu3",
        "outputId": "d7f3b0d8-8f9c-438e-a0f0-75157600ed86"
      },
      "execution_count": 26,
      "outputs": [
        {
          "output_type": "execute_result",
          "data": {
            "text/plain": [
              "(tensor(0.1114), tensor(0.2021))"
            ]
          },
          "metadata": {},
          "execution_count": 26
        }
      ]
    },
    {
      "cell_type": "code",
      "source": [
        "F.l1_loss(a_3, train_sevens_avg), F.mse_loss(a_3, train_sevens_avg).sqrt()"
      ],
      "metadata": {
        "colab": {
          "base_uri": "https://localhost:8080/"
        },
        "id": "GUz9ZBbuG7oa",
        "outputId": "d98eddb0-53d3-44ed-b534-50e5ba2c4137"
      },
      "execution_count": 27,
      "outputs": [
        {
          "output_type": "execute_result",
          "data": {
            "text/plain": [
              "(tensor(0.1586), tensor(0.3021))"
            ]
          },
          "metadata": {},
          "execution_count": 27
        }
      ]
    },
    {
      "cell_type": "code",
      "source": [
        "tensor([\n",
        "    [1,2,3],\n",
        "    [4,5,6],\n",
        "    [6,7,8]\n",
        "]).float().mean((-1,-2)) # averaging over the last two dimensions"
      ],
      "metadata": {
        "colab": {
          "base_uri": "https://localhost:8080/"
        },
        "id": "VPFE6uVXKCPF",
        "outputId": "ed3230aa-b884-4aea-b4c2-d8bc84d627ba"
      },
      "execution_count": 28,
      "outputs": [
        {
          "output_type": "execute_result",
          "data": {
            "text/plain": [
              "tensor(4.6667)"
            ]
          },
          "metadata": {},
          "execution_count": 28
        }
      ]
    },
    {
      "cell_type": "code",
      "source": [
        "# So how well does this \"model\" perform?\n",
        "def mnist_dist(a, b):\n",
        "  return (a-b).abs().mean((-1,-2)) # average over the \"last two dimensions\"\n",
        "\n",
        "mnist_dist(a_3, train_threes_avg), mnist_dist(a_3, train_sevens_avg)"
      ],
      "metadata": {
        "colab": {
          "base_uri": "https://localhost:8080/"
        },
        "id": "T6ewcNKpHaZB",
        "outputId": "17383603-4810-4f1a-9e95-c51ac9375a1c"
      },
      "execution_count": 29,
      "outputs": [
        {
          "output_type": "execute_result",
          "data": {
            "text/plain": [
              "(tensor([0.1114]), tensor([0.1586]))"
            ]
          },
          "metadata": {},
          "execution_count": 29
        }
      ]
    },
    {
      "cell_type": "code",
      "source": [
        "print(mnist_dist(valid_threes_tensor, train_threes_avg).mean())\n",
        "print(mnist_dist(valid_threes_tensor, train_sevens_avg).mean())"
      ],
      "metadata": {
        "colab": {
          "base_uri": "https://localhost:8080/"
        },
        "id": "TwjkeDHtH-Mk",
        "outputId": "b0792e37-9336-44cc-ff1c-507e54bd006b"
      },
      "execution_count": 30,
      "outputs": [
        {
          "output_type": "stream",
          "name": "stdout",
          "text": [
            "tensor(0.1296)\n",
            "tensor(0.1596)\n"
          ]
        }
      ]
    },
    {
      "cell_type": "code",
      "source": [
        "def is_3(x): return mnist_dist(x, train_threes_avg) < mnist_dist(x, train_sevens_avg)"
      ],
      "metadata": {
        "id": "EZGE2T9tLJis"
      },
      "execution_count": 31,
      "outputs": []
    },
    {
      "cell_type": "code",
      "source": [
        "is_3(a_3)"
      ],
      "metadata": {
        "colab": {
          "base_uri": "https://localhost:8080/"
        },
        "id": "J4g6OA8MLm9z",
        "outputId": "369e46bc-258d-4b8b-93c2-3be2c7ffd1ba"
      },
      "execution_count": 32,
      "outputs": [
        {
          "output_type": "execute_result",
          "data": {
            "text/plain": [
              "tensor([True])"
            ]
          },
          "metadata": {},
          "execution_count": 32
        }
      ]
    },
    {
      "cell_type": "code",
      "source": [
        "is_3(valid_threes_tensor).float().mean()"
      ],
      "metadata": {
        "colab": {
          "base_uri": "https://localhost:8080/"
        },
        "id": "vLIzxjYwLqWb",
        "outputId": "26eb1a7c-71ed-45c2-8e09-62fedbbf96ab"
      },
      "execution_count": 33,
      "outputs": [
        {
          "output_type": "execute_result",
          "data": {
            "text/plain": [
              "tensor(0.9168)"
            ]
          },
          "metadata": {},
          "execution_count": 33
        }
      ]
    },
    {
      "cell_type": "code",
      "source": [
        "def is_7(x): return mnist_dist(x, train_sevens_avg) < mnist_dist(x, train_threes_avg)"
      ],
      "metadata": {
        "id": "hEnwuspTL6YF"
      },
      "execution_count": 34,
      "outputs": []
    },
    {
      "cell_type": "code",
      "source": [
        "is_7(valid_sevens_tensor).float().mean()"
      ],
      "metadata": {
        "colab": {
          "base_uri": "https://localhost:8080/"
        },
        "id": "TGqul2HRMAaG",
        "outputId": "0f8e97b9-cc28-49f4-f10b-d9b3dcc332f2"
      },
      "execution_count": 35,
      "outputs": [
        {
          "output_type": "execute_result",
          "data": {
            "text/plain": [
              "tensor(0.9854)"
            ]
          },
          "metadata": {},
          "execution_count": 35
        }
      ]
    },
    {
      "cell_type": "code",
      "source": [
        "accuracy_3s = is_3(valid_threes_tensor).float().mean()\n",
        "accuracy_7s = is_7(valid_sevens_tensor).float().mean()\n",
        "\n",
        "accuracy_3s, accuracy_7s, tensor([accuracy_3s, accuracy_7s]).mean()"
      ],
      "metadata": {
        "colab": {
          "base_uri": "https://localhost:8080/"
        },
        "id": "03d_kSBaMEOS",
        "outputId": "214ffb7e-dcde-49df-a210-d493238978d0"
      },
      "execution_count": 36,
      "outputs": [
        {
          "output_type": "execute_result",
          "data": {
            "text/plain": [
              "(tensor(0.9168), tensor(0.9854), tensor(0.9511))"
            ]
          },
          "metadata": {},
          "execution_count": 36
        }
      ]
    },
    {
      "cell_type": "code",
      "source": [
        "# nice, 95% accuracy overall with this baseline \"model\"\n",
        "\n",
        "# how about all 10 digits -- how well does a baseline model perform?"
      ],
      "metadata": {
        "id": "EfhemffLMq6Y"
      },
      "execution_count": 37,
      "outputs": []
    },
    {
      "cell_type": "code",
      "source": [
        "path = untar_data(URLs.MNIST)"
      ],
      "metadata": {
        "colab": {
          "base_uri": "https://localhost:8080/",
          "height": 37
        },
        "id": "meKhIISrNvfg",
        "outputId": "73ab8863-e3ce-4960-af80-8b417c706083"
      },
      "execution_count": 38,
      "outputs": [
        {
          "output_type": "display_data",
          "data": {
            "text/plain": [
              "<IPython.core.display.HTML object>"
            ],
            "text/html": [
              "\n",
              "<style>\n",
              "    /* Turns off some styling */\n",
              "    progress {\n",
              "        /* gets rid of default border in Firefox and Opera. */\n",
              "        border: none;\n",
              "        /* Needs to be in here for Safari polyfill so background images work as expected. */\n",
              "        background-size: auto;\n",
              "    }\n",
              "    progress:not([value]), progress:not([value])::-webkit-progress-bar {\n",
              "        background: repeating-linear-gradient(45deg, #7e7e7e, #7e7e7e 10px, #5c5c5c 10px, #5c5c5c 20px);\n",
              "    }\n",
              "    .progress-bar-interrupted, .progress-bar-interrupted::-webkit-progress-bar {\n",
              "        background: #F44336;\n",
              "    }\n",
              "</style>\n"
            ]
          },
          "metadata": {}
        },
        {
          "output_type": "display_data",
          "data": {
            "text/plain": [
              "<IPython.core.display.HTML object>"
            ],
            "text/html": [
              "\n",
              "    <div>\n",
              "      <progress value='15687680' class='' max='15683414' style='width:300px; height:20px; vertical-align: middle;'></progress>\n",
              "      100.03% [15687680/15683414 00:00&lt;00:00]\n",
              "    </div>\n",
              "    "
            ]
          },
          "metadata": {}
        }
      ]
    },
    {
      "cell_type": "code",
      "source": [
        "# \"cd\" into that folder, so we just display relative paths\n",
        "Path.BASE_PATH = path"
      ],
      "metadata": {
        "id": "hXQwh5vXN2vk"
      },
      "execution_count": 39,
      "outputs": []
    },
    {
      "cell_type": "code",
      "source": [
        "path.ls().sorted()"
      ],
      "metadata": {
        "colab": {
          "base_uri": "https://localhost:8080/"
        },
        "id": "Mb4Qgd1c1wak",
        "outputId": "05804387-45b9-4d86-bd3e-730a4317ddc1"
      },
      "execution_count": 44,
      "outputs": [
        {
          "output_type": "execute_result",
          "data": {
            "text/plain": [
              "(#2) [Path('testing'),Path('training')]"
            ]
          },
          "metadata": {},
          "execution_count": 44
        }
      ]
    },
    {
      "cell_type": "code",
      "source": [
        "(path/\"testing/\").ls().sorted()"
      ],
      "metadata": {
        "colab": {
          "base_uri": "https://localhost:8080/"
        },
        "id": "HHLXDvr2N-8y",
        "outputId": "828e6e11-8506-48c5-ca04-dd765d7e81b0"
      },
      "execution_count": 42,
      "outputs": [
        {
          "output_type": "execute_result",
          "data": {
            "text/plain": [
              "(#10) [Path('testing/0'),Path('testing/1'),Path('testing/2'),Path('testing/3'),Path('testing/4'),Path('testing/5'),Path('testing/6'),Path('testing/7'),Path('testing/8'),Path('testing/9')]"
            ]
          },
          "metadata": {},
          "execution_count": 42
        }
      ]
    },
    {
      "cell_type": "code",
      "source": [
        "# build our \"model\" from the training data\n",
        "# calculate the ideal \"average\" number, for each number\n",
        "model_number = [\n",
        "    load_images(path/f\"training/{n}\").mean(dim=0)\n",
        "    for n in range(10)\n",
        "]"
      ],
      "metadata": {
        "id": "Bkxq5eNOOE_Y"
      },
      "execution_count": 45,
      "outputs": []
    },
    {
      "cell_type": "code",
      "source": [
        "# convert to a single tensor (stack)\n",
        "# and get rid of the channel dimension as these images are grayscale (single channel)\n",
        "model_number = torch.stack(model_number).squeeze(1)"
      ],
      "metadata": {
        "id": "l-7GTSRH2jsb"
      },
      "execution_count": 56,
      "outputs": []
    },
    {
      "cell_type": "code",
      "source": [
        "model_number.shape"
      ],
      "metadata": {
        "colab": {
          "base_uri": "https://localhost:8080/"
        },
        "id": "x2Feh4NM4Oa-",
        "outputId": "060f4ad6-d6e4-49ff-ad7e-dde21912e754"
      },
      "execution_count": 58,
      "outputs": [
        {
          "output_type": "execute_result",
          "data": {
            "text/plain": [
              "torch.Size([10, 28, 28])"
            ]
          },
          "metadata": {},
          "execution_count": 58
        }
      ]
    },
    {
      "cell_type": "code",
      "source": [
        "for n in model_number:\n",
        "  show_image(n)"
      ],
      "metadata": {
        "colab": {
          "base_uri": "https://localhost:8080/",
          "height": 987
        },
        "id": "T300wbjQ4P4W",
        "outputId": "dff1e986-8536-43e0-b75f-1a3943d6a265"
      },
      "execution_count": 59,
      "outputs": [
        {
          "output_type": "display_data",
          "data": {
            "text/plain": [
              "<Figure size 100x100 with 1 Axes>"
            ],
            "image/png": "[encoded data removed]"
          },
          "metadata": {}
        },
        {
          "output_type": "display_data",
          "data": {
            "text/plain": [
              "<Figure size 100x100 with 1 Axes>"
            ],
            "image/png": "[encoded data removed]"
          },
          "metadata": {}
        },
        {
          "output_type": "display_data",
          "data": {
            "text/plain": [
              "<Figure size 100x100 with 1 Axes>"
            ],
            "image/png": "[encoded data removed]"
          },
          "metadata": {}
        },
        {
          "output_type": "display_data",
          "data": {
            "text/plain": [
              "<Figure size 100x100 with 1 Axes>"
            ],
            "image/png": "[encoded data removed]"
          },
          "metadata": {}
        },
        {
          "output_type": "display_data",
          "data": {
            "text/plain": [
              "<Figure size 100x100 with 1 Axes>"
            ],
            "image/png": "[encoded data removed]"
          },
          "metadata": {}
        },
        {
          "output_type": "display_data",
          "data": {
            "text/plain": [
              "<Figure size 100x100 with 1 Axes>"
            ],
            "image/png": "[encoded data removed]"
          },
          "metadata": {}
        },
        {
          "output_type": "display_data",
          "data": {
            "text/plain": [
              "<Figure size 100x100 with 1 Axes>"
            ],
            "image/png": "[encoded data removed]"
          },
          "metadata": {}
        },
        {
          "output_type": "display_data",
          "data": {
            "text/plain": [
              "<Figure size 100x100 with 1 Axes>"
            ],
            "image/png": "[encoded data removed]"
          },
          "metadata": {}
        },
        {
          "output_type": "display_data",
          "data": {
            "text/plain": [
              "<Figure size 100x100 with 1 Axes>"
            ],
            "image/png": "[encoded data removed]"
          },
          "metadata": {}
        },
        {
          "output_type": "display_data",
          "data": {
            "text/plain": [
              "<Figure size 100x100 with 1 Axes>"
            ],
            "image/png": "[encoded data removed]"
          },
          "metadata": {}
        }
      ]
    },
    {
      "cell_type": "code",
      "source": [
        "for d in (model_number - a_3):\n",
        "  show_image(d.abs())"
      ],
      "metadata": {
        "colab": {
          "base_uri": "https://localhost:8080/",
          "height": 987
        },
        "id": "BFKIlHWc45mk",
        "outputId": "5bab5ab9-10e7-4f2f-dd18-f7620ec7138b"
      },
      "execution_count": 62,
      "outputs": [
        {
          "output_type": "display_data",
          "data": {
            "text/plain": [
              "<Figure size 100x100 with 1 Axes>"
            ],
            "image/png": "[encoded data removed]"
          },
          "metadata": {}
        },
        {
          "output_type": "display_data",
          "data": {
            "text/plain": [
              "<Figure size 100x100 with 1 Axes>"
            ],
            "image/png": "[encoded data removed]"
          },
          "metadata": {}
        },
        {
          "output_type": "display_data",
          "data": {
            "text/plain": [
              "<Figure size 100x100 with 1 Axes>"
            ],
            "image/png": "[encoded data removed]"
          },
          "metadata": {}
        },
        {
          "output_type": "display_data",
          "data": {
            "text/plain": [
              "<Figure size 100x100 with 1 Axes>"
            ],
            "image/png": "[encoded data removed]"
          },
          "metadata": {}
        },
        {
          "output_type": "display_data",
          "data": {
            "text/plain": [
              "<Figure size 100x100 with 1 Axes>"
            ],
            "image/png": "[encoded data removed]"
          },
          "metadata": {}
        },
        {
          "output_type": "display_data",
          "data": {
            "text/plain": [
              "<Figure size 100x100 with 1 Axes>"
            ],
            "image/png": "[encoded data removed]"
          },
          "metadata": {}
        },
        {
          "output_type": "display_data",
          "data": {
            "text/plain": [
              "<Figure size 100x100 with 1 Axes>"
            ],
            "image/png": "[encoded data removed]"
          },
          "metadata": {}
        },
        {
          "output_type": "display_data",
          "data": {
            "text/plain": [
              "<Figure size 100x100 with 1 Axes>"
            ],
            "image/png": "[encoded data removed]"
          },
          "metadata": {}
        },
        {
          "output_type": "display_data",
          "data": {
            "text/plain": [
              "<Figure size 100x100 with 1 Axes>"
            ],
            "image/png": "[encoded data removed]"
          },
          "metadata": {}
        },
        {
          "output_type": "display_data",
          "data": {
            "text/plain": [
              "<Figure size 100x100 with 1 Axes>"
            ],
            "image/png": "[encoded data removed]"
          },
          "metadata": {}
        }
      ]
    },
    {
      "cell_type": "code",
      "source": [
        "(model_number - a_3).abs().mean((-1,-2))"
      ],
      "metadata": {
        "colab": {
          "base_uri": "https://localhost:8080/"
        },
        "id": "tHj-pcml5RRn",
        "outputId": "0a600d69-3034-43e4-b820-9c7c4c22ed78"
      },
      "execution_count": 63,
      "outputs": [
        {
          "output_type": "execute_result",
          "data": {
            "text/plain": [
              "tensor([0.1879, 0.1353, 0.1734, 0.1114, 0.1704, 0.1443, 0.1723, 0.1586, 0.1550, 0.1601])"
            ]
          },
          "metadata": {},
          "execution_count": 63
        }
      ]
    },
    {
      "cell_type": "code",
      "source": [
        "(model_number - a_3).abs().mean((-1,-2)).argmin()"
      ],
      "metadata": {
        "colab": {
          "base_uri": "https://localhost:8080/"
        },
        "id": "QLqTkBqL5hDL",
        "outputId": "131df4a8-fb5e-45a8-cfb6-4bca8e72a0a0"
      },
      "execution_count": 65,
      "outputs": [
        {
          "output_type": "execute_result",
          "data": {
            "text/plain": [
              "tensor(3)"
            ]
          },
          "metadata": {},
          "execution_count": 65
        }
      ]
    },
    {
      "cell_type": "code",
      "source": [
        "dist = model_number - valid_threes_tensor\n",
        "dist.shape"
      ],
      "metadata": {
        "colab": {
          "base_uri": "https://localhost:8080/"
        },
        "id": "8U2rsMee7ttr",
        "outputId": "4dec1c7b-5e80-4c49-e362-fcf09c592719"
      },
      "execution_count": 78,
      "outputs": [
        {
          "output_type": "execute_result",
          "data": {
            "text/plain": [
              "torch.Size([1010, 10, 28, 28])"
            ]
          },
          "metadata": {},
          "execution_count": 78
        }
      ]
    },
    {
      "cell_type": "code",
      "source": [
        "loss = dist.abs().mean((-1,-2))\n",
        "loss.shape"
      ],
      "metadata": {
        "colab": {
          "base_uri": "https://localhost:8080/"
        },
        "id": "AFkGs-QP71jT",
        "outputId": "b12cc8a6-4acc-4263-9ddd-5582d7091f20"
      },
      "execution_count": 83,
      "outputs": [
        {
          "output_type": "execute_result",
          "data": {
            "text/plain": [
              "torch.Size([1010, 10])"
            ]
          },
          "metadata": {},
          "execution_count": 83
        }
      ]
    },
    {
      "cell_type": "code",
      "source": [
        "loss.argmin(-1)"
      ],
      "metadata": {
        "colab": {
          "base_uri": "https://localhost:8080/"
        },
        "id": "xAacUxRn8KS1",
        "outputId": "2bebeadb-6d96-4087-9ad5-02b3ff93f67b"
      },
      "execution_count": 86,
      "outputs": [
        {
          "output_type": "execute_result",
          "data": {
            "text/plain": [
              "tensor([1, 3, 3,  ..., 1, 8, 3])"
            ]
          },
          "metadata": {},
          "execution_count": 86
        }
      ]
    },
    {
      "cell_type": "code",
      "source": [
        "def baseline_classify_digit(x):\n",
        "  # check mnist_loss against each digit model\n",
        "  dist = (model_number - x)\n",
        "  loss = dist.abs().mean((-1, -2))\n",
        "  # the index with the lowest loss corresponds to the best-matching digit\n",
        "  return loss.argmin(-1)"
      ],
      "metadata": {
        "id": "0l9tYAd84VzZ"
      },
      "execution_count": 87,
      "outputs": []
    },
    {
      "cell_type": "code",
      "source": [
        "baseline_classify_digit(a_3)"
      ],
      "metadata": {
        "colab": {
          "base_uri": "https://localhost:8080/"
        },
        "id": "cg8SM1lB6Lo_",
        "outputId": "fd165391-0788-4dd3-a520-2b2ae43c206c"
      },
      "execution_count": 88,
      "outputs": [
        {
          "output_type": "execute_result",
          "data": {
            "text/plain": [
              "tensor(3)"
            ]
          },
          "metadata": {},
          "execution_count": 88
        }
      ]
    },
    {
      "cell_type": "code",
      "source": [
        "valid_threes_tensor.shape"
      ],
      "metadata": {
        "colab": {
          "base_uri": "https://localhost:8080/"
        },
        "id": "sBipU2Ve9CL3",
        "outputId": "8bb500f6-fa7f-423b-ec8d-0b4b26876d27"
      },
      "execution_count": 92,
      "outputs": [
        {
          "output_type": "execute_result",
          "data": {
            "text/plain": [
              "torch.Size([1010, 1, 28, 28])"
            ]
          },
          "metadata": {},
          "execution_count": 92
        }
      ]
    },
    {
      "cell_type": "code",
      "source": [
        "baseline_classify_digit(valid_threes_tensor)"
      ],
      "metadata": {
        "colab": {
          "base_uri": "https://localhost:8080/"
        },
        "id": "oxg0aCZS7bfS",
        "outputId": "00c87003-d8bb-45ad-ecdf-86b4bc07c67f"
      },
      "execution_count": 89,
      "outputs": [
        {
          "output_type": "execute_result",
          "data": {
            "text/plain": [
              "tensor([1, 3, 3,  ..., 1, 8, 3])"
            ]
          },
          "metadata": {},
          "execution_count": 89
        }
      ]
    },
    {
      "cell_type": "code",
      "source": [
        "# now let's load all the validation data into a tensor\n",
        "validation_digits = [\n",
        "    load_images(path/f\"testing/{n}\")\n",
        "    for n in range(10)\n",
        "]"
      ],
      "metadata": {
        "id": "xxjjjD2f6OJo"
      },
      "execution_count": 94,
      "outputs": []
    },
    {
      "cell_type": "code",
      "source": [
        "validation_digits[0].shape"
      ],
      "metadata": {
        "colab": {
          "base_uri": "https://localhost:8080/"
        },
        "id": "R1LewWmD6q47",
        "outputId": "446fd150-38bd-4bae-f562-1bde8eb5a60b"
      },
      "execution_count": 95,
      "outputs": [
        {
          "output_type": "execute_result",
          "data": {
            "text/plain": [
              "torch.Size([980, 1, 28, 28])"
            ]
          },
          "metadata": {},
          "execution_count": 95
        }
      ]
    },
    {
      "cell_type": "code",
      "source": [
        "for i, x in enumerate(validation_digits):\n",
        "  print(f\"{i}: {x.shape}\")"
      ],
      "metadata": {
        "colab": {
          "base_uri": "https://localhost:8080/"
        },
        "id": "Im1G56LN6_5c",
        "outputId": "5eb616f5-7141-46ee-890c-5e71c3afb8b8"
      },
      "execution_count": 96,
      "outputs": [
        {
          "output_type": "stream",
          "name": "stdout",
          "text": [
            "0: torch.Size([980, 1, 28, 28])\n",
            "1: torch.Size([1135, 1, 28, 28])\n",
            "2: torch.Size([1032, 1, 28, 28])\n",
            "3: torch.Size([1010, 1, 28, 28])\n",
            "4: torch.Size([982, 1, 28, 28])\n",
            "5: torch.Size([892, 1, 28, 28])\n",
            "6: torch.Size([958, 1, 28, 28])\n",
            "7: torch.Size([1028, 1, 28, 28])\n",
            "8: torch.Size([974, 1, 28, 28])\n",
            "9: torch.Size([1009, 1, 28, 28])\n"
          ]
        }
      ]
    },
    {
      "cell_type": "code",
      "source": [
        "for i, x in enumerate(validation_digits):\n",
        "  res = baseline_classify_digit(x)\n",
        "  accuracy = (res == i).sum() / res.size(0)\n",
        "  import matplotlib.pyplot as plt\n",
        "  plt.figure(figsize=(8, 1))\n",
        "  plt.hist(res.numpy(), bins=range(11))\n",
        "  plt.title(f\"'{i}' accuracy {(res == i).sum()}/{res.size(0)} ({accuracy*100:.1f}%)\")\n",
        "  plt.show()"
      ],
      "metadata": {
        "colab": {
          "base_uri": "https://localhost:8080/",
          "height": 1000
        },
        "id": "-Xq-KPg87Qbn",
        "outputId": "b8cc8701-6867-411a-c74d-e36021999f15"
      },
      "execution_count": 115,
      "outputs": [
        {
          "output_type": "display_data",
          "data": {
            "text/plain": [
              "<Figure size 800x100 with 1 Axes>"
            ],
            "image/png": "[encoded data removed]"
          },
          "metadata": {}
        },
        {
          "output_type": "display_data",
          "data": {
            "text/plain": [
              "<Figure size 800x100 with 1 Axes>"
            ],
            "image/png": "[encoded data removed]"
          },
          "metadata": {}
        },
        {
          "output_type": "display_data",
          "data": {
            "text/plain": [
              "<Figure size 800x100 with 1 Axes>"
            ],
            "image/png": "[encoded data removed]"
          },
          "metadata": {}
        },
        {
          "output_type": "display_data",
          "data": {
            "text/plain": [
              "<Figure size 800x100 with 1 Axes>"
            ],
            "image/png": "[encoded data removed]"
          },
          "metadata": {}
        },
        {
          "output_type": "display_data",
          "data": {
            "text/plain": [
              "<Figure size 800x100 with 1 Axes>"
            ],
            "image/png": "[encoded data removed]"
          },
          "metadata": {}
        },
        {
          "output_type": "display_data",
          "data": {
            "text/plain": [
              "<Figure size 800x100 with 1 Axes>"
            ],
            "image/png": "[encoded data removed]"
          },
          "metadata": {}
        },
        {
          "output_type": "display_data",
          "data": {
            "text/plain": [
              "<Figure size 800x100 with 1 Axes>"
            ],
            "image/png": "[encoded data removed]"
          },
          "metadata": {}
        },
        {
          "output_type": "display_data",
          "data": {
            "text/plain": [
              "<Figure size 800x100 with 1 Axes>"
            ],
            "image/png": "[encoded data removed]"
          },
          "metadata": {}
        },
        {
          "output_type": "display_data",
          "data": {
            "text/plain": [
              "<Figure size 800x100 with 1 Axes>"
            ],
            "image/png": "[encoded data removed]"
          },
          "metadata": {}
        },
        {
          "output_type": "display_data",
          "data": {
            "text/plain": [
              "<Figure size 800x100 with 1 Axes>"
            ],
            "image/png": "[encoded data removed]"
          },
          "metadata": {}
        }
      ]
    },
    {
      "cell_type": "code",
      "source": [
        "total_correct = 0\n",
        "total_samples = 0\n",
        "for i, x in enumerate(validation_digits):\n",
        "  res = baseline_classify_digit(x)\n",
        "  correct = (res == i).sum()\n",
        "  samples = res.size(0)\n",
        "  total_correct += correct\n",
        "  total_samples += samples\n",
        "  accuracy = correct / samples\n",
        "  print(f\"'{i}' accuracy {correct}/{samples} ({accuracy*100:.1f}%)\")\n",
        "\n",
        "print(f\"Total correct: {total_correct}/{total_samples}\")\n",
        "print(f\"Accuracy: {total_correct/total_samples*100:0.1f}\")"
      ],
      "metadata": {
        "colab": {
          "base_uri": "https://localhost:8080/"
        },
        "id": "9YfBk7Hr9Y-g",
        "outputId": "ea89ef49-6479-49c0-b912-7149ea855018"
      },
      "execution_count": 116,
      "outputs": [
        {
          "output_type": "stream",
          "name": "stdout",
          "text": [
            "'0' accuracy 799/980 (81.5%)\n",
            "'1' accuracy 1133/1135 (99.8%)\n",
            "'2' accuracy 437/1032 (42.3%)\n",
            "'3' accuracy 615/1010 (60.9%)\n",
            "'4' accuracy 656/982 (66.8%)\n",
            "'5' accuracy 291/892 (32.6%)\n",
            "'6' accuracy 754/958 (78.7%)\n",
            "'7' accuracy 786/1028 (76.5%)\n",
            "'8' accuracy 431/974 (44.3%)\n",
            "'9' accuracy 783/1009 (77.6%)\n",
            "Total correct: 6685/10000\n",
            "Accuracy: 66.8\n"
          ]
        }
      ]
    },
    {
      "cell_type": "code",
      "source": [
        "# Only 66.8% accuracy with the baseline model, using L1 error (abs mean).\n",
        "\n",
        "# how about using RMSE? Would that be more accurate?"
      ],
      "metadata": {
        "id": "uwaetacABzAd"
      },
      "execution_count": null,
      "outputs": []
    },
    {
      "cell_type": "code",
      "source": [
        "def baseline_rmse_classify_digit(x):\n",
        "  # check rmse against each digit model\n",
        "  dist = (model_number - x)\n",
        "  loss = (dist**2).mean((-1, -2)).sqrt()\n",
        "  # the index with the lowest loss corresponds to the best-matching digit\n",
        "  return loss.argmin(-1)"
      ],
      "metadata": {
        "id": "f8Y5y7cQCAy8"
      },
      "execution_count": 117,
      "outputs": []
    },
    {
      "cell_type": "code",
      "source": [
        "total_correct = 0\n",
        "total_samples = 0\n",
        "for i, x in enumerate(validation_digits):\n",
        "  res = baseline_rmse_classify_digit(x)\n",
        "  correct = (res == i).sum()\n",
        "  samples = res.size(0)\n",
        "  total_correct += correct\n",
        "  total_samples += samples\n",
        "  accuracy = correct / samples\n",
        "  print(f\"'{i}' accuracy {correct}/{samples} ({accuracy*100:.1f}%)\")\n",
        "\n",
        "print(f\"Total correct: {total_correct}/{total_samples}\")\n",
        "print(f\"Accuracy: {total_correct/total_samples*100:0.1f}\")"
      ],
      "metadata": {
        "colab": {
          "base_uri": "https://localhost:8080/"
        },
        "id": "0eP1606kCSIw",
        "outputId": "3d7b2bb9-af29-4100-9191-c6fdb73249cd"
      },
      "execution_count": 118,
      "outputs": [
        {
          "output_type": "stream",
          "name": "stdout",
          "text": [
            "'0' accuracy 878/980 (89.6%)\n",
            "'1' accuracy 1092/1135 (96.2%)\n",
            "'2' accuracy 781/1032 (75.7%)\n",
            "'3' accuracy 814/1010 (80.6%)\n",
            "'4' accuracy 811/982 (82.6%)\n",
            "'5' accuracy 612/892 (68.6%)\n",
            "'6' accuracy 827/958 (86.3%)\n",
            "'7' accuracy 856/1028 (83.3%)\n",
            "'8' accuracy 718/974 (73.7%)\n",
            "'9' accuracy 814/1009 (80.7%)\n",
            "Total correct: 8203/10000\n",
            "Accuracy: 82.0\n"
          ]
        }
      ]
    },
    {
      "cell_type": "code",
      "source": [
        "# Wow, made a big difference.. 82% accurate with RMSE"
      ],
      "metadata": {
        "id": "tsLfLK09CW9w"
      },
      "execution_count": 120,
      "outputs": []
    },
    {
      "cell_type": "code",
      "source": [
        "rows = []\n",
        "\n",
        "for i, x in enumerate(validation_digits):\n",
        "  rmse_correct = (baseline_rmse_classify_digit(x) == i).sum().item()\n",
        "  l1_correct   = (baseline_classify_digit(x)      == i).sum().item()\n",
        "  samples = x.size(0)\n",
        "  rows.append({\n",
        "      'rmse_correct': rmse_correct,\n",
        "      'l1_correct':   l1_correct,\n",
        "      'samples':      x.size(0),\n",
        "  })\n",
        "\n",
        "df = pd.DataFrame(rows)\n",
        "df['rmse-l1']   = df['rmse_correct'] - df['l1_correct']\n",
        "df['rmse-l1(%)'] = (df['rmse-l1']      / df['samples'] * 100).round(1).astype(str) + '%'\n",
        "df['rmse(%)']    = (df['rmse_correct'] / df['samples'] * 100).round(1).astype(str) + '%'\n",
        "df['l1(%)']      = (df['l1_correct']   / df['samples'] * 100).round(1).astype(str) + '%'\n",
        "df"
      ],
      "metadata": {
        "colab": {
          "base_uri": "https://localhost:8080/",
          "height": 363
        },
        "id": "l0uOLzn4DFMO",
        "outputId": "f215c696-37e7-46b2-aae3-a2ffbd1bfcca"
      },
      "execution_count": 149,
      "outputs": [
        {
          "output_type": "execute_result",
          "data": {
            "text/plain": [
              "   rmse_correct  l1_correct  samples  rmse-l1 rmse-l1(%) rmse(%)  l1(%)\n",
              "0           878         799      980       79       8.1%   89.6%  81.5%\n",
              "1          1092        1133     1135      -41      -3.6%   96.2%  99.8%\n",
              "2           781         437     1032      344      33.3%   75.7%  42.3%\n",
              "3           814         615     1010      199      19.7%   80.6%  60.9%\n",
              "4           811         656      982      155      15.8%   82.6%  66.8%\n",
              "5           612         291      892      321      36.0%   68.6%  32.6%\n",
              "6           827         754      958       73       7.6%   86.3%  78.7%\n",
              "7           856         786     1028       70       6.8%   83.3%  76.5%\n",
              "8           718         431      974      287      29.5%   73.7%  44.3%\n",
              "9           814         783     1009       31       3.1%   80.7%  77.6%"
            ],
            "text/html": [
              "\n",
              "  <div id=\"df-ece47f8b-3371-4eec-b694-9b2ee730330b\" class=\"colab-df-container\">\n",
              "    <div>\n",
              "<style scoped>\n",
              "    .dataframe tbody tr th:only-of-type {\n",
              "        vertical-align: middle;\n",
              "    }\n",
              "\n",
              "    .dataframe tbody tr th {\n",
              "        vertical-align: top;\n",
              "    }\n",
              "\n",
              "    .dataframe thead th {\n",
              "        text-align: right;\n",
              "    }\n",
              "</style>\n",
              "<table border=\"1\" class=\"dataframe\">\n",
              "  <thead>\n",
              "    <tr style=\"text-align: right;\">\n",
              "      <th></th>\n",
              "      <th>rmse_correct</th>\n",
              "      <th>l1_correct</th>\n",
              "      <th>samples</th>\n",
              "      <th>rmse-l1</th>\n",
              "      <th>rmse-l1(%)</th>\n",
              "      <th>rmse(%)</th>\n",
              "      <th>l1(%)</th>\n",
              "    </tr>\n",
              "  </thead>\n",
              "  <tbody>\n",
              "    <tr>\n",
              "      <th>0</th>\n",
              "      <td>878</td>\n",
              "      <td>799</td>\n",
              "      <td>980</td>\n",
              "      <td>79</td>\n",
              "      <td>8.1%</td>\n",
              "      <td>89.6%</td>\n",
              "      <td>81.5%</td>\n",
              "    </tr>\n",
              "    <tr>\n",
              "      <th>1</th>\n",
              "      <td>1092</td>\n",
              "      <td>1133</td>\n",
              "      <td>1135</td>\n",
              "      <td>-41</td>\n",
              "      <td>-3.6%</td>\n",
              "      <td>96.2%</td>\n",
              "      <td>99.8%</td>\n",
              "    </tr>\n",
              "    <tr>\n",
              "      <th>2</th>\n",
              "      <td>781</td>\n",
              "      <td>437</td>\n",
              "      <td>1032</td>\n",
              "      <td>344</td>\n",
              "      <td>33.3%</td>\n",
              "      <td>75.7%</td>\n",
              "      <td>42.3%</td>\n",
              "    </tr>\n",
              "    <tr>\n",
              "      <th>3</th>\n",
              "      <td>814</td>\n",
              "      <td>615</td>\n",
              "      <td>1010</td>\n",
              "      <td>199</td>\n",
              "      <td>19.7%</td>\n",
              "      <td>80.6%</td>\n",
              "      <td>60.9%</td>\n",
              "    </tr>\n",
              "    <tr>\n",
              "      <th>4</th>\n",
              "      <td>811</td>\n",
              "      <td>656</td>\n",
              "      <td>982</td>\n",
              "      <td>155</td>\n",
              "      <td>15.8%</td>\n",
              "      <td>82.6%</td>\n",
              "      <td>66.8%</td>\n",
              "    </tr>\n",
              "    <tr>\n",
              "      <th>5</th>\n",
              "      <td>612</td>\n",
              "      <td>291</td>\n",
              "      <td>892</td>\n",
              "      <td>321</td>\n",
              "      <td>36.0%</td>\n",
              "      <td>68.6%</td>\n",
              "      <td>32.6%</td>\n",
              "    </tr>\n",
              "    <tr>\n",
              "      <th>6</th>\n",
              "      <td>827</td>\n",
              "      <td>754</td>\n",
              "      <td>958</td>\n",
              "      <td>73</td>\n",
              "      <td>7.6%</td>\n",
              "      <td>86.3%</td>\n",
              "      <td>78.7%</td>\n",
              "    </tr>\n",
              "    <tr>\n",
              "      <th>7</th>\n",
              "      <td>856</td>\n",
              "      <td>786</td>\n",
              "      <td>1028</td>\n",
              "      <td>70</td>\n",
              "      <td>6.8%</td>\n",
              "      <td>83.3%</td>\n",
              "      <td>76.5%</td>\n",
              "    </tr>\n",
              "    <tr>\n",
              "      <th>8</th>\n",
              "      <td>718</td>\n",
              "      <td>431</td>\n",
              "      <td>974</td>\n",
              "      <td>287</td>\n",
              "      <td>29.5%</td>\n",
              "      <td>73.7%</td>\n",
              "      <td>44.3%</td>\n",
              "    </tr>\n",
              "    <tr>\n",
              "      <th>9</th>\n",
              "      <td>814</td>\n",
              "      <td>783</td>\n",
              "      <td>1009</td>\n",
              "      <td>31</td>\n",
              "      <td>3.1%</td>\n",
              "      <td>80.7%</td>\n",
              "      <td>77.6%</td>\n",
              "    </tr>\n",
              "  </tbody>\n",
              "</table>\n",
              "</div>\n",
              "    <div class=\"colab-df-buttons\">\n",
              "\n",
              "  <div class=\"colab-df-container\">\n",
              "    <button class=\"colab-df-convert\" onclick=\"convertToInteractive('df-ece47f8b-3371-4eec-b694-9b2ee730330b')\"\n",
              "            title=\"Convert this dataframe to an interactive table.\"\n",
              "            style=\"display:none;\">\n",
              "\n",
              "  <svg xmlns=\"http://www.w3.org/2000/svg\" height=\"24px\" viewBox=\"0 -960 960 960\">\n",
              "    <path d=\"M120-120v-720h720v720H120Zm60-500h600v-160H180v160Zm220 220h160v-160H400v160Zm0 220h160v-160H400v160ZM180-400h160v-160H180v160Zm440 0h160v-160H620v160ZM180-180h160v-160H180v160Zm440 0h160v-160H620v160Z\"/>\n",
              "  </svg>\n",
              "    </button>\n",
              "\n",
              "  <style>\n",
              "    .colab-df-container {\n",
              "      display:flex;\n",
              "      gap: 12px;\n",
              "    }\n",
              "\n",
              "    .colab-df-convert {\n",
              "      background-color: #E8F0FE;\n",
              "      border: none;\n",
              "      border-radius: 50%;\n",
              "      cursor: pointer;\n",
              "      display: none;\n",
              "      fill: #1967D2;\n",
              "      height: 32px;\n",
              "      padding: 0 0 0 0;\n",
              "      width: 32px;\n",
              "    }\n",
              "\n",
              "    .colab-df-convert:hover {\n",
              "      background-color: #E2EBFA;\n",
              "      box-shadow: 0px 1px 2px rgba(60, 64, 67, 0.3), 0px 1px 3px 1px rgba(60, 64, 67, 0.15);\n",
              "      fill: #174EA6;\n",
              "    }\n",
              "\n",
              "    .colab-df-buttons div {\n",
              "      margin-bottom: 4px;\n",
              "    }\n",
              "\n",
              "    [theme=dark] .colab-df-convert {\n",
              "      background-color: #3B4455;\n",
              "      fill: #D2E3FC;\n",
              "    }\n",
              "\n",
              "    [theme=dark] .colab-df-convert:hover {\n",
              "      background-color: #434B5C;\n",
              "      box-shadow: 0px 1px 3px 1px rgba(0, 0, 0, 0.15);\n",
              "      filter: drop-shadow(0px 1px 2px rgba(0, 0, 0, 0.3));\n",
              "      fill: #FFFFFF;\n",
              "    }\n",
              "  </style>\n",
              "\n",
              "    <script>\n",
              "      const buttonEl =\n",
              "        document.querySelector('#df-ece47f8b-3371-4eec-b694-9b2ee730330b button.colab-df-convert');\n",
              "      buttonEl.style.display =\n",
              "        google.colab.kernel.accessAllowed ? 'block' : 'none';\n",
              "\n",
              "      async function convertToInteractive(key) {\n",
              "        const element = document.querySelector('#df-ece47f8b-3371-4eec-b694-9b2ee730330b');\n",
              "        const dataTable =\n",
              "          await google.colab.kernel.invokeFunction('convertToInteractive',\n",
              "                                                    [key], {});\n",
              "        if (!dataTable) return;\n",
              "\n",
              "        const docLinkHtml = 'Like what you see? Visit the ' +\n",
              "          '<a target=\"_blank\" href=https://colab.research.google.com/notebooks/data_table.ipynb>data table notebook</a>'\n",
              "          + ' to learn more about interactive tables.';\n",
              "        element.innerHTML = '';\n",
              "        dataTable['output_type'] = 'display_data';\n",
              "        await google.colab.output.renderOutput(dataTable, element);\n",
              "        const docLink = document.createElement('div');\n",
              "        docLink.innerHTML = docLinkHtml;\n",
              "        element.appendChild(docLink);\n",
              "      }\n",
              "    </script>\n",
              "  </div>\n",
              "\n",
              "\n",
              "<div id=\"df-db7ab53b-583d-4b5e-b974-d6e9d5770d62\">\n",
              "  <button class=\"colab-df-quickchart\" onclick=\"quickchart('df-db7ab53b-583d-4b5e-b974-d6e9d5770d62')\"\n",
              "            title=\"Suggest charts\"\n",
              "            style=\"display:none;\">\n",
              "\n",
              "<svg xmlns=\"http://www.w3.org/2000/svg\" height=\"24px\"viewBox=\"0 0 24 24\"\n",
              "     width=\"24px\">\n",
              "    <g>\n",
              "        <path d=\"M19 3H5c-1.1 0-2 .9-2 2v14c0 1.1.9 2 2 2h14c1.1 0 2-.9 2-2V5c0-1.1-.9-2-2-2zM9 17H7v-7h2v7zm4 0h-2V7h2v10zm4 0h-2v-4h2v4z\"/>\n",
              "    </g>\n",
              "</svg>\n",
              "  </button>\n",
              "\n",
              "<style>\n",
              "  .colab-df-quickchart {\n",
              "      --bg-color: #E8F0FE;\n",
              "      --fill-color: #1967D2;\n",
              "      --hover-bg-color: #E2EBFA;\n",
              "      --hover-fill-color: #174EA6;\n",
              "      --disabled-fill-color: #AAA;\n",
              "      --disabled-bg-color: #DDD;\n",
              "  }\n",
              "\n",
              "  [theme=dark] .colab-df-quickchart {\n",
              "      --bg-color: #3B4455;\n",
              "      --fill-color: #D2E3FC;\n",
              "      --hover-bg-color: #434B5C;\n",
              "      --hover-fill-color: #FFFFFF;\n",
              "      --disabled-bg-color: #3B4455;\n",
              "      --disabled-fill-color: #666;\n",
              "  }\n",
              "\n",
              "  .colab-df-quickchart {\n",
              "    background-color: var(--bg-color);\n",
              "    border: none;\n",
              "    border-radius: 50%;\n",
              "    cursor: pointer;\n",
              "    display: none;\n",
              "    fill: var(--fill-color);\n",
              "    height: 32px;\n",
              "    padding: 0;\n",
              "    width: 32px;\n",
              "  }\n",
              "\n",
              "  .colab-df-quickchart:hover {\n",
              "    background-color: var(--hover-bg-color);\n",
              "    box-shadow: 0 1px 2px rgba(60, 64, 67, 0.3), 0 1px 3px 1px rgba(60, 64, 67, 0.15);\n",
              "    fill: var(--button-hover-fill-color);\n",
              "  }\n",
              "\n",
              "  .colab-df-quickchart-complete:disabled,\n",
              "  .colab-df-quickchart-complete:disabled:hover {\n",
              "    background-color: var(--disabled-bg-color);\n",
              "    fill: var(--disabled-fill-color);\n",
              "    box-shadow: none;\n",
              "  }\n",
              "\n",
              "  .colab-df-spinner {\n",
              "    border: 2px solid var(--fill-color);\n",
              "    border-color: transparent;\n",
              "    border-bottom-color: var(--fill-color);\n",
              "    animation:\n",
              "      spin 1s steps(1) infinite;\n",
              "  }\n",
              "\n",
              "  @keyframes spin {\n",
              "    0% {\n",
              "      border-color: transparent;\n",
              "      border-bottom-color: var(--fill-color);\n",
              "      border-left-color: var(--fill-color);\n",
              "    }\n",
              "    20% {\n",
              "      border-color: transparent;\n",
              "      border-left-color: var(--fill-color);\n",
              "      border-top-color: var(--fill-color);\n",
              "    }\n",
              "    30% {\n",
              "      border-color: transparent;\n",
              "      border-left-color: var(--fill-color);\n",
              "      border-top-color: var(--fill-color);\n",
              "      border-right-color: var(--fill-color);\n",
              "    }\n",
              "    40% {\n",
              "      border-color: transparent;\n",
              "      border-right-color: var(--fill-color);\n",
              "      border-top-color: var(--fill-color);\n",
              "    }\n",
              "    60% {\n",
              "      border-color: transparent;\n",
              "      border-right-color: var(--fill-color);\n",
              "    }\n",
              "    80% {\n",
              "      border-color: transparent;\n",
              "      border-right-color: var(--fill-color);\n",
              "      border-bottom-color: var(--fill-color);\n",
              "    }\n",
              "    90% {\n",
              "      border-color: transparent;\n",
              "      border-bottom-color: var(--fill-color);\n",
              "    }\n",
              "  }\n",
              "</style>\n",
              "\n",
              "  <script>\n",
              "    async function quickchart(key) {\n",
              "      const quickchartButtonEl =\n",
              "        document.querySelector('#' + key + ' button');\n",
              "      quickchartButtonEl.disabled = true;  // To prevent multiple clicks.\n",
              "      quickchartButtonEl.classList.add('colab-df-spinner');\n",
              "      try {\n",
              "        const charts = await google.colab.kernel.invokeFunction(\n",
              "            'suggestCharts', [key], {});\n",
              "      } catch (error) {\n",
              "        console.error('Error during call to suggestCharts:', error);\n",
              "      }\n",
              "      quickchartButtonEl.classList.remove('colab-df-spinner');\n",
              "      quickchartButtonEl.classList.add('colab-df-quickchart-complete');\n",
              "    }\n",
              "    (() => {\n",
              "      let quickchartButtonEl =\n",
              "        document.querySelector('#df-db7ab53b-583d-4b5e-b974-d6e9d5770d62 button');\n",
              "      quickchartButtonEl.style.display =\n",
              "        google.colab.kernel.accessAllowed ? 'block' : 'none';\n",
              "    })();\n",
              "  </script>\n",
              "</div>\n",
              "\n",
              "  <div id=\"id_49ae7473-6178-41e4-98a8-7548b3f67563\">\n",
              "    <style>\n",
              "      .colab-df-generate {\n",
              "        background-color: #E8F0FE;\n",
              "        border: none;\n",
              "        border-radius: 50%;\n",
              "        cursor: pointer;\n",
              "        display: none;\n",
              "        fill: #1967D2;\n",
              "        height: 32px;\n",
              "        padding: 0 0 0 0;\n",
              "        width: 32px;\n",
              "      }\n",
              "\n",
              "      .colab-df-generate:hover {\n",
              "        background-color: #E2EBFA;\n",
              "        box-shadow: 0px 1px 2px rgba(60, 64, 67, 0.3), 0px 1px 3px 1px rgba(60, 64, 67, 0.15);\n",
              "        fill: #174EA6;\n",
              "      }\n",
              "\n",
              "      [theme=dark] .colab-df-generate {\n",
              "        background-color: #3B4455;\n",
              "        fill: #D2E3FC;\n",
              "      }\n",
              "\n",
              "      [theme=dark] .colab-df-generate:hover {\n",
              "        background-color: #434B5C;\n",
              "        box-shadow: 0px 1px 3px 1px rgba(0, 0, 0, 0.15);\n",
              "        filter: drop-shadow(0px 1px 2px rgba(0, 0, 0, 0.3));\n",
              "        fill: #FFFFFF;\n",
              "      }\n",
              "    </style>\n",
              "    <button class=\"colab-df-generate\" onclick=\"generateWithVariable('df')\"\n",
              "            title=\"Generate code using this dataframe.\"\n",
              "            style=\"display:none;\">\n",
              "\n",
              "  <svg xmlns=\"http://www.w3.org/2000/svg\" height=\"24px\"viewBox=\"0 0 24 24\"\n",
              "       width=\"24px\">\n",
              "    <path d=\"M7,19H8.4L18.45,9,17,7.55,7,17.6ZM5,21V16.75L18.45,3.32a2,2,0,0,1,2.83,0l1.4,1.43a1.91,1.91,0,0,1,.58,1.4,1.91,1.91,0,0,1-.58,1.4L9.25,21ZM18.45,9,17,7.55Zm-12,3A5.31,5.31,0,0,0,4.9,8.1,5.31,5.31,0,0,0,1,6.5,5.31,5.31,0,0,0,4.9,4.9,5.31,5.31,0,0,0,6.5,1,5.31,5.31,0,0,0,8.1,4.9,5.31,5.31,0,0,0,12,6.5,5.46,5.46,0,0,0,6.5,12Z\"/>\n",
              "  </svg>\n",
              "    </button>\n",
              "    <script>\n",
              "      (() => {\n",
              "      const buttonEl =\n",
              "        document.querySelector('#id_49ae7473-6178-41e4-98a8-7548b3f67563 button.colab-df-generate');\n",
              "      buttonEl.style.display =\n",
              "        google.colab.kernel.accessAllowed ? 'block' : 'none';\n",
              "\n",
              "      buttonEl.onclick = () => {\n",
              "        google.colab.notebook.generateWithVariable('df');\n",
              "      }\n",
              "      })();\n",
              "    </script>\n",
              "  </div>\n",
              "\n",
              "    </div>\n",
              "  </div>\n"
            ],
            "application/vnd.google.colaboratory.intrinsic+json": {
              "type": "dataframe",
              "variable_name": "df",
              "summary": "{\n  \"name\": \"df\",\n  \"rows\": 10,\n  \"fields\": [\n    {\n      \"column\": \"rmse_correct\",\n      \"properties\": {\n        \"dtype\": \"number\",\n        \"std\": 122,\n        \"min\": 612,\n        \"max\": 1092,\n        \"num_unique_values\": 9,\n        \"samples\": [\n          856,\n          1092,\n          612\n        ],\n        \"semantic_type\": \"\",\n        \"description\": \"\"\n      }\n    },\n    {\n      \"column\": \"l1_correct\",\n      \"properties\": {\n        \"dtype\": \"number\",\n        \"std\": 240,\n        \"min\": 291,\n        \"max\": 1133,\n        \"num_unique_values\": 10,\n        \"samples\": [\n          431,\n          1133,\n          291\n        ],\n        \"semantic_type\": \"\",\n        \"description\": \"\"\n      }\n    },\n    {\n      \"column\": \"samples\",\n      \"properties\": {\n        \"dtype\": \"number\",\n        \"std\": 62,\n        \"min\": 892,\n        \"max\": 1135,\n        \"num_unique_values\": 10,\n        \"samples\": [\n          974,\n          1135,\n          892\n        ],\n        \"semantic_type\": \"\",\n        \"description\": \"\"\n      }\n    },\n    {\n      \"column\": \"rmse-l1\",\n      \"properties\": {\n        \"dtype\": \"number\",\n        \"std\": 131,\n        \"min\": -41,\n        \"max\": 344,\n        \"num_unique_values\": 10,\n        \"samples\": [\n          287,\n          -41,\n          321\n        ],\n        \"semantic_type\": \"\",\n        \"description\": \"\"\n      }\n    },\n    {\n      \"column\": \"rmse-l1(%)\",\n      \"properties\": {\n        \"dtype\": \"string\",\n        \"num_unique_values\": 10,\n        \"samples\": [\n          \"29.5%\",\n          \"-3.6%\",\n          \"36.0%\"\n        ],\n        \"semantic_type\": \"\",\n        \"description\": \"\"\n      }\n    },\n    {\n      \"column\": \"rmse(%)\",\n      \"properties\": {\n        \"dtype\": \"string\",\n        \"num_unique_values\": 10,\n        \"samples\": [\n          \"73.7%\",\n          \"96.2%\",\n          \"68.6%\"\n        ],\n        \"semantic_type\": \"\",\n        \"description\": \"\"\n      }\n    },\n    {\n      \"column\": \"l1(%)\",\n      \"properties\": {\n        \"dtype\": \"string\",\n        \"num_unique_values\": 10,\n        \"samples\": [\n          \"44.3%\",\n          \"99.8%\",\n          \"32.6%\"\n        ],\n        \"semantic_type\": \"\",\n        \"description\": \"\"\n      }\n    }\n  ]\n}"
            }
          },
          "metadata": {},
          "execution_count": 149
        }
      ]
    },
    {
      "cell_type": "code",
      "source": [
        "totals_df = df[[\"rmse_correct\", \"l1_correct\", \"samples\", \"rmse-l1\"]].sum()\n",
        "totals_df['rmse(%)']    = f\"{totals_df['rmse_correct']/totals_df['samples']*100:.1f}%\"\n",
        "totals_df['l1(%)']      = f\"{totals_df['l1_correct']  /totals_df['samples']*100:.1f}%\"\n",
        "totals_df['rmse-l1(%)'] = f\"{totals_df['rmse-l1']     /totals_df['samples']*100:.1f}%\"\n",
        "totals_df"
      ],
      "metadata": {
        "colab": {
          "base_uri": "https://localhost:8080/"
        },
        "id": "jnEgURwlIvis",
        "outputId": "81e95926-feb7-48ed-8be5-63b78a7257a2"
      },
      "execution_count": 155,
      "outputs": [
        {
          "output_type": "execute_result",
          "data": {
            "text/plain": [
              "rmse_correct     8203\n",
              "l1_correct       6685\n",
              "samples         10000\n",
              "rmse-l1          1518\n",
              "rmse(%)         82.0%\n",
              "l1(%)           66.8%\n",
              "rmse-l1(%)      15.2%\n",
              "dtype: object"
            ]
          },
          "metadata": {},
          "execution_count": 155
        }
      ]
    },
    {
      "cell_type": "code",
      "source": [
        "# So L1 was better than RMSE for detecting 1's. But for every other digit, RMSE was better.. substantially better for 2,5,8's!"
      ],
      "metadata": {
        "id": "8uPAEGTgEfpc"
      },
      "execution_count": 138,
      "outputs": []
    },
    {
      "cell_type": "code",
      "source": [],
      "metadata": {
        "id": "P2ctrxYZHOtf"
      },
      "execution_count": null,
      "outputs": []
    }
  ]
}